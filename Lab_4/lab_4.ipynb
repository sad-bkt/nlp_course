{
 "cells": [
  {
   "cell_type": "code",
   "execution_count": 56,
   "metadata": {
    "colab": {
     "base_uri": "https://localhost:8080/"
    },
    "id": "Ao-MsFgbfLyd",
    "outputId": "08fa27ca-64c4-419f-f329-04d0c84de42d",
    "ExecuteTime": {
     "end_time": "2023-11-04T16:24:06.491385900Z",
     "start_time": "2023-11-04T16:23:58.810984300Z"
    }
   },
   "outputs": [
    {
     "name": "stderr",
     "output_type": "stream",
     "text": [
      "[nltk_data] Downloading package punkt to\n",
      "[nltk_data]     C:\\Users\\User\\AppData\\Roaming\\nltk_data...\n",
      "[nltk_data]   Package punkt is already up-to-date!\n"
     ]
    }
   ],
   "source": [
    "import numpy as np\n",
    "import pandas as pd\n",
    "import spacy\n",
    "import random\n",
    "from tqdm.notebook import tqdm\n",
    "from sklearn.model_selection import train_test_split\n",
    "import nltk\n",
    "nltk.download(\"punkt\")\n",
    "from nltk.probability import FreqDist\n",
    "import torch\n",
    "import torch.nn as nn\n",
    "from torch.utils.data import DataLoader, Dataset\n",
    "from torchmetrics import F1Score"
   ]
  },
  {
   "cell_type": "code",
   "execution_count": 42,
   "metadata": {
    "id": "aCyORR2uPlcQ",
    "colab": {
     "base_uri": "https://localhost:8080/"
    },
    "outputId": "d94339d2-673e-45a4-9631-3c57784950b1",
    "ExecuteTime": {
     "end_time": "2023-11-04T14:56:30.676426400Z",
     "start_time": "2023-11-04T14:56:30.513806200Z"
    }
   },
   "outputs": [
    {
     "data": {
      "text/plain": "<torch._C.Generator at 0x20be63c5e50>"
     },
     "execution_count": 42,
     "metadata": {},
     "output_type": "execute_result"
    }
   ],
   "source": [
    "seed = 2023\n",
    "\n",
    "random.seed(seed)\n",
    "np.random.seed(seed)\n",
    "torch.manual_seed(seed)"
   ]
  },
  {
   "cell_type": "markdown",
   "metadata": {
    "id": "tj8JWZliNGeJ"
   },
   "source": [
    "# Данные"
   ]
  },
  {
   "cell_type": "markdown",
   "source": [
    "## Считывание данных"
   ],
   "metadata": {
    "collapsed": false
   }
  },
  {
   "cell_type": "code",
   "execution_count": 43,
   "metadata": {
    "id": "A2nLh9KVB3yY",
    "ExecuteTime": {
     "end_time": "2023-11-04T14:56:43.731027800Z",
     "start_time": "2023-11-04T14:56:30.686456500Z"
    }
   },
   "outputs": [
    {
     "data": {
      "text/plain": "                                               title  \\\n0  As U.S. budget fight looms, Republicans flip t...   \n1  U.S. military to accept transgender recruits o...   \n2  Senior U.S. Republican senator: 'Let Mr. Muell...   \n3  FBI Russia probe helped by Australian diplomat...   \n4  Trump wants Postal Service to charge 'much mor...   \n\n                                                text       subject  \\\n0  WASHINGTON (Reuters) - The head of a conservat...  politicsNews   \n1  WASHINGTON (Reuters) - Transgender people will...  politicsNews   \n2  WASHINGTON (Reuters) - The special counsel inv...  politicsNews   \n3  WASHINGTON (Reuters) - Trump campaign adviser ...  politicsNews   \n4  SEATTLE/WASHINGTON (Reuters) - President Donal...  politicsNews   \n\n                 date  label  \n0  December 31, 2017       1  \n1  December 29, 2017       1  \n2  December 31, 2017       1  \n3  December 30, 2017       1  \n4  December 29, 2017       1  ",
      "text/html": "<div>\n<style scoped>\n    .dataframe tbody tr th:only-of-type {\n        vertical-align: middle;\n    }\n\n    .dataframe tbody tr th {\n        vertical-align: top;\n    }\n\n    .dataframe thead th {\n        text-align: right;\n    }\n</style>\n<table border=\"1\" class=\"dataframe\">\n  <thead>\n    <tr style=\"text-align: right;\">\n      <th></th>\n      <th>title</th>\n      <th>text</th>\n      <th>subject</th>\n      <th>date</th>\n      <th>label</th>\n    </tr>\n  </thead>\n  <tbody>\n    <tr>\n      <th>0</th>\n      <td>As U.S. budget fight looms, Republicans flip t...</td>\n      <td>WASHINGTON (Reuters) - The head of a conservat...</td>\n      <td>politicsNews</td>\n      <td>December 31, 2017</td>\n      <td>1</td>\n    </tr>\n    <tr>\n      <th>1</th>\n      <td>U.S. military to accept transgender recruits o...</td>\n      <td>WASHINGTON (Reuters) - Transgender people will...</td>\n      <td>politicsNews</td>\n      <td>December 29, 2017</td>\n      <td>1</td>\n    </tr>\n    <tr>\n      <th>2</th>\n      <td>Senior U.S. Republican senator: 'Let Mr. Muell...</td>\n      <td>WASHINGTON (Reuters) - The special counsel inv...</td>\n      <td>politicsNews</td>\n      <td>December 31, 2017</td>\n      <td>1</td>\n    </tr>\n    <tr>\n      <th>3</th>\n      <td>FBI Russia probe helped by Australian diplomat...</td>\n      <td>WASHINGTON (Reuters) - Trump campaign adviser ...</td>\n      <td>politicsNews</td>\n      <td>December 30, 2017</td>\n      <td>1</td>\n    </tr>\n    <tr>\n      <th>4</th>\n      <td>Trump wants Postal Service to charge 'much mor...</td>\n      <td>SEATTLE/WASHINGTON (Reuters) - President Donal...</td>\n      <td>politicsNews</td>\n      <td>December 29, 2017</td>\n      <td>1</td>\n    </tr>\n  </tbody>\n</table>\n</div>"
     },
     "execution_count": 43,
     "metadata": {},
     "output_type": "execute_result"
    }
   ],
   "source": [
    "df_false = pd.read_csv(\"Fake.csv\")\n",
    "df_true = pd.read_csv(\"True.csv\")\n",
    "df_false[\"label\"] = 0\n",
    "df_true[\"label\"] = 1\n",
    "df_true.head()"
   ]
  },
  {
   "cell_type": "code",
   "execution_count": 44,
   "outputs": [
    {
     "data": {
      "text/plain": "                                               title  \\\n0   Donald Trump Sends Out Embarrassing New Year’...   \n1   Drunk Bragging Trump Staffer Started Russian ...   \n2   Sheriff David Clarke Becomes An Internet Joke...   \n3   Trump Is So Obsessed He Even Has Obama’s Name...   \n4   Pope Francis Just Called Out Donald Trump Dur...   \n\n                                                text subject  \\\n0  Donald Trump just couldn t wish all Americans ...    News   \n1  House Intelligence Committee Chairman Devin Nu...    News   \n2  On Friday, it was revealed that former Milwauk...    News   \n3  On Christmas day, Donald Trump announced that ...    News   \n4  Pope Francis used his annual Christmas Day mes...    News   \n\n                date  label  \n0  December 31, 2017      0  \n1  December 31, 2017      0  \n2  December 30, 2017      0  \n3  December 29, 2017      0  \n4  December 25, 2017      0  ",
      "text/html": "<div>\n<style scoped>\n    .dataframe tbody tr th:only-of-type {\n        vertical-align: middle;\n    }\n\n    .dataframe tbody tr th {\n        vertical-align: top;\n    }\n\n    .dataframe thead th {\n        text-align: right;\n    }\n</style>\n<table border=\"1\" class=\"dataframe\">\n  <thead>\n    <tr style=\"text-align: right;\">\n      <th></th>\n      <th>title</th>\n      <th>text</th>\n      <th>subject</th>\n      <th>date</th>\n      <th>label</th>\n    </tr>\n  </thead>\n  <tbody>\n    <tr>\n      <th>0</th>\n      <td>Donald Trump Sends Out Embarrassing New Year’...</td>\n      <td>Donald Trump just couldn t wish all Americans ...</td>\n      <td>News</td>\n      <td>December 31, 2017</td>\n      <td>0</td>\n    </tr>\n    <tr>\n      <th>1</th>\n      <td>Drunk Bragging Trump Staffer Started Russian ...</td>\n      <td>House Intelligence Committee Chairman Devin Nu...</td>\n      <td>News</td>\n      <td>December 31, 2017</td>\n      <td>0</td>\n    </tr>\n    <tr>\n      <th>2</th>\n      <td>Sheriff David Clarke Becomes An Internet Joke...</td>\n      <td>On Friday, it was revealed that former Milwauk...</td>\n      <td>News</td>\n      <td>December 30, 2017</td>\n      <td>0</td>\n    </tr>\n    <tr>\n      <th>3</th>\n      <td>Trump Is So Obsessed He Even Has Obama’s Name...</td>\n      <td>On Christmas day, Donald Trump announced that ...</td>\n      <td>News</td>\n      <td>December 29, 2017</td>\n      <td>0</td>\n    </tr>\n    <tr>\n      <th>4</th>\n      <td>Pope Francis Just Called Out Donald Trump Dur...</td>\n      <td>Pope Francis used his annual Christmas Day mes...</td>\n      <td>News</td>\n      <td>December 25, 2017</td>\n      <td>0</td>\n    </tr>\n  </tbody>\n</table>\n</div>"
     },
     "execution_count": 44,
     "metadata": {},
     "output_type": "execute_result"
    }
   ],
   "source": [
    "df_false.head()"
   ],
   "metadata": {
    "collapsed": false,
    "ExecuteTime": {
     "end_time": "2023-11-04T14:56:43.805633800Z",
     "start_time": "2023-11-04T14:56:43.741542400Z"
    }
   }
  },
  {
   "cell_type": "code",
   "execution_count": 45,
   "outputs": [],
   "source": [
    "# remove first 3 words, because they are the same for true news\n",
    "df_true[\"text\"] = df_true[\"text\"].apply(lambda x: ' '.join(x.split(' ')[3:]))\n",
    "df = pd.concat([df_true, df_false], ignore_index=True)"
   ],
   "metadata": {
    "collapsed": false,
    "ExecuteTime": {
     "end_time": "2023-11-04T14:56:49.439894500Z",
     "start_time": "2023-11-04T14:56:43.764514900Z"
    }
   }
  },
  {
   "cell_type": "code",
   "execution_count": 46,
   "outputs": [
    {
     "data": {
      "text/plain": "       label                                               data\n0          1  The head of a conservative Republican faction ...\n1          1  Transgender people will be allowed for the fir...\n2          1  The special counsel investigation of links bet...\n3          1  Trump campaign adviser George Papadopoulos tol...\n4          1  President Donald Trump called on the U.S. Post...\n...      ...                                                ...\n44893      0  21st Century Wire says As 21WIRE reported earl...\n44894      0  21st Century Wire says It s a familiar theme. ...\n44895      0  Patrick Henningsen  21st Century WireRemember ...\n44896      0  21st Century Wire says Al Jazeera America will...\n44897      0  21st Century Wire says As 21WIRE predicted in ...\n\n[44898 rows x 2 columns]",
      "text/html": "<div>\n<style scoped>\n    .dataframe tbody tr th:only-of-type {\n        vertical-align: middle;\n    }\n\n    .dataframe tbody tr th {\n        vertical-align: top;\n    }\n\n    .dataframe thead th {\n        text-align: right;\n    }\n</style>\n<table border=\"1\" class=\"dataframe\">\n  <thead>\n    <tr style=\"text-align: right;\">\n      <th></th>\n      <th>label</th>\n      <th>data</th>\n    </tr>\n  </thead>\n  <tbody>\n    <tr>\n      <th>0</th>\n      <td>1</td>\n      <td>The head of a conservative Republican faction ...</td>\n    </tr>\n    <tr>\n      <th>1</th>\n      <td>1</td>\n      <td>Transgender people will be allowed for the fir...</td>\n    </tr>\n    <tr>\n      <th>2</th>\n      <td>1</td>\n      <td>The special counsel investigation of links bet...</td>\n    </tr>\n    <tr>\n      <th>3</th>\n      <td>1</td>\n      <td>Trump campaign adviser George Papadopoulos tol...</td>\n    </tr>\n    <tr>\n      <th>4</th>\n      <td>1</td>\n      <td>President Donald Trump called on the U.S. Post...</td>\n    </tr>\n    <tr>\n      <th>...</th>\n      <td>...</td>\n      <td>...</td>\n    </tr>\n    <tr>\n      <th>44893</th>\n      <td>0</td>\n      <td>21st Century Wire says As 21WIRE reported earl...</td>\n    </tr>\n    <tr>\n      <th>44894</th>\n      <td>0</td>\n      <td>21st Century Wire says It s a familiar theme. ...</td>\n    </tr>\n    <tr>\n      <th>44895</th>\n      <td>0</td>\n      <td>Patrick Henningsen  21st Century WireRemember ...</td>\n    </tr>\n    <tr>\n      <th>44896</th>\n      <td>0</td>\n      <td>21st Century Wire says Al Jazeera America will...</td>\n    </tr>\n    <tr>\n      <th>44897</th>\n      <td>0</td>\n      <td>21st Century Wire says As 21WIRE predicted in ...</td>\n    </tr>\n  </tbody>\n</table>\n<p>44898 rows × 2 columns</p>\n</div>"
     },
     "execution_count": 46,
     "metadata": {},
     "output_type": "execute_result"
    }
   ],
   "source": [
    "df['data'] = df['text'] + \" \" + df['title']\n",
    "df = df.drop(['date', 'subject', 'title', 'text'],axis=1)\n",
    "df"
   ],
   "metadata": {
    "collapsed": false,
    "ExecuteTime": {
     "end_time": "2023-11-04T14:56:53.888136500Z",
     "start_time": "2023-11-04T14:56:49.443899200Z"
    }
   }
  },
  {
   "cell_type": "markdown",
   "source": [
    "## Предобработка"
   ],
   "metadata": {
    "collapsed": false
   }
  },
  {
   "cell_type": "code",
   "execution_count": 47,
   "outputs": [
    {
     "name": "stdout",
     "output_type": "stream",
     "text": [
      "CPU times: total: 59min 35s\n",
      "Wall time: 1h 2min 57s\n"
     ]
    },
    {
     "data": {
      "text/plain": "   label                                               data\n0      1  [head, conservative, republican, faction, u.s....\n1      1  [transgender, people, allow, time, enlist, u.s...\n2      1  [special, counsel, investigation, link, russia...\n3      1  [trump, campaign, adviser, george, papadopoulo...\n4      1  [president, donald, trump, call, u.s., postal,...",
      "text/html": "<div>\n<style scoped>\n    .dataframe tbody tr th:only-of-type {\n        vertical-align: middle;\n    }\n\n    .dataframe tbody tr th {\n        vertical-align: top;\n    }\n\n    .dataframe thead th {\n        text-align: right;\n    }\n</style>\n<table border=\"1\" class=\"dataframe\">\n  <thead>\n    <tr style=\"text-align: right;\">\n      <th></th>\n      <th>label</th>\n      <th>data</th>\n    </tr>\n  </thead>\n  <tbody>\n    <tr>\n      <th>0</th>\n      <td>1</td>\n      <td>[head, conservative, republican, faction, u.s....</td>\n    </tr>\n    <tr>\n      <th>1</th>\n      <td>1</td>\n      <td>[transgender, people, allow, time, enlist, u.s...</td>\n    </tr>\n    <tr>\n      <th>2</th>\n      <td>1</td>\n      <td>[special, counsel, investigation, link, russia...</td>\n    </tr>\n    <tr>\n      <th>3</th>\n      <td>1</td>\n      <td>[trump, campaign, adviser, george, papadopoulo...</td>\n    </tr>\n    <tr>\n      <th>4</th>\n      <td>1</td>\n      <td>[president, donald, trump, call, u.s., postal,...</td>\n    </tr>\n  </tbody>\n</table>\n</div>"
     },
     "execution_count": 47,
     "metadata": {},
     "output_type": "execute_result"
    }
   ],
   "source": [
    "%%time\n",
    "nlp = spacy.load(\"en_core_web_sm\")\n",
    "df['data'] = df['data'].apply(lambda x :[\n",
    "        token.lemma_.lower() for token in nlp(x) if\n",
    "        not token.is_stop\n",
    "        and not token.is_punct\n",
    "        and not token.is_digit\n",
    "        and not token.like_email\n",
    "        and not token.like_num\n",
    "        and not token.is_space\n",
    "    ])\n",
    "df.head()"
   ],
   "metadata": {
    "collapsed": false,
    "ExecuteTime": {
     "end_time": "2023-11-04T15:59:52.117101600Z",
     "start_time": "2023-11-04T14:56:53.918584100Z"
    }
   }
  },
  {
   "cell_type": "code",
   "execution_count": 49,
   "outputs": [],
   "source": [
    "X_train, X_test, y_train, y_test = train_test_split(df['data'], df['label'], test_size=0.40, random_state=seed)\n",
    "X_valid, X_test, y_valid, y_test = train_test_split(X_test, y_test, test_size=0.50, random_state=seed)"
   ],
   "metadata": {
    "collapsed": false,
    "ExecuteTime": {
     "end_time": "2023-11-04T16:21:01.812012700Z",
     "start_time": "2023-11-04T16:21:01.270185300Z"
    }
   }
  },
  {
   "cell_type": "markdown",
   "source": [
    "## Составление словаря и превращение текста в эмбеддинги"
   ],
   "metadata": {
    "collapsed": false
   }
  },
  {
   "cell_type": "code",
   "execution_count": 54,
   "metadata": {
    "colab": {
     "base_uri": "https://localhost:8080/",
     "height": 49,
     "referenced_widgets": [
      "06374f8536624f498f9401d3b9cfe8ec",
      "7f942b23449b4f14aa811687ca130f84",
      "40209be88d764d4ab8241435e38ab903",
      "02f1a4e33b3042b99935775734a98da1",
      "a7ff5ef0e56544d693a73bfb234f6d4f",
      "181cfb4651a947b0bfd2aa534479910a",
      "f38e9d6ea83441959390c1745c08a9d2",
      "dcc6c031227941f899d9b85beeea50aa",
      "2788dd243ddd4d0c9d502f91f8f4af3e",
      "13183c92455742a39462ab35fd0d87af",
      "36b56eb2c42243069800088b851f5f3a"
     ]
    },
    "id": "J3WlATTQM3PD",
    "outputId": "5c809aee-4461-45a2-ebbf-3726c33f9fc7",
    "ExecuteTime": {
     "end_time": "2023-11-04T16:23:45.303814100Z",
     "start_time": "2023-11-04T16:23:19.940609200Z"
    }
   },
   "outputs": [
    {
     "data": {
      "text/plain": "  0%|          | 0/26938 [00:00<?, ?it/s]",
      "application/vnd.jupyter.widget-view+json": {
       "version_major": 2,
       "version_minor": 0,
       "model_id": "b536e8504d05487cbb4919da67478e06"
      }
     },
     "metadata": {},
     "output_type": "display_data"
    }
   ],
   "source": [
    "train_corpus = list(X_train)\n",
    "tokens = []\n",
    "for text in tqdm(train_corpus):\n",
    "  tokens.extend(text)\n",
    "tokens_filtered = [word for word in tokens if word.isalnum()]"
   ]
  },
  {
   "cell_type": "code",
   "execution_count": 58,
   "metadata": {
    "id": "VxdSavFnM3Uv",
    "ExecuteTime": {
     "end_time": "2023-11-04T16:24:47.805706400Z",
     "start_time": "2023-11-04T16:24:43.183508600Z"
    }
   },
   "outputs": [],
   "source": [
    "max_words = 10000\n",
    "dist = FreqDist(tokens_filtered)\n",
    "tokens_filtered_top = [pair[0] for pair in dist.most_common(max_words-1)]"
   ]
  },
  {
   "cell_type": "code",
   "execution_count": 59,
   "metadata": {
    "colab": {
     "base_uri": "https://localhost:8080/"
    },
    "id": "yd1mJUeKM3YT",
    "outputId": "b2e680a5-14dc-4bf8-aca6-7c8dec45d317",
    "ExecuteTime": {
     "end_time": "2023-11-04T16:24:49.516597100Z",
     "start_time": "2023-11-04T16:24:49.469015700Z"
    }
   },
   "outputs": [
    {
     "data": {
      "text/plain": "['s',\n 'say',\n 'trump',\n 'president',\n 'state',\n 't',\n 'year',\n 'people',\n 'new',\n 'obama']"
     },
     "execution_count": 59,
     "metadata": {},
     "output_type": "execute_result"
    }
   ],
   "source": [
    "tokens_filtered_top[:10]"
   ]
  },
  {
   "cell_type": "code",
   "execution_count": 60,
   "metadata": {
    "id": "TN9-edLsM3b1",
    "ExecuteTime": {
     "end_time": "2023-11-04T16:25:34.009141600Z",
     "start_time": "2023-11-04T16:25:33.954951400Z"
    }
   },
   "outputs": [
    {
     "data": {
      "text/plain": "{'s': 1,\n 'say': 2,\n 'trump': 3,\n 'president': 4,\n 'state': 5,\n 't': 6,\n 'year': 7,\n 'people': 8,\n 'new': 9,\n 'obama': 10,\n 'clinton': 11,\n 'tell': 12,\n 'government': 13,\n 'house': 14,\n 'donald': 15,\n 'republican': 16,\n 'election': 17,\n 'country': 18,\n 'time': 19,\n 'go': 20,\n 'party': 21,\n 'white': 22,\n 'like': 23,\n 'campaign': 24,\n 'right': 25,\n 'united': 26,\n 'know': 27,\n 'official': 28,\n 'vote': 29,\n 'come': 30,\n 'report': 31,\n 'news': 32,\n 'call': 33,\n 'include': 34,\n 'law': 35,\n 'want': 36,\n 'group': 37,\n 'take': 38,\n 'work': 39,\n 'states': 40,\n 'hillary': 41,\n 'day': 42,\n 'video': 43,\n 'think': 44,\n 'support': 45,\n 'week': 46,\n 'court': 47,\n 'security': 48,\n 'american': 49,\n 'attack': 50,\n 'national': 51,\n 'police': 52,\n 'bill': 53,\n 'need': 54,\n 'political': 55,\n 'ask': 56,\n 'leader': 57,\n 'woman': 58,\n 'accord': 59,\n 'russia': 60,\n 'medium': 61,\n 'win': 62,\n 'administration': 63,\n 'percent': 64,\n 'way': 65,\n 'plan': 66,\n 'month': 67,\n 'presidential': 68,\n 'america': 69,\n 'issue': 70,\n 'republicans': 71,\n 'north': 72,\n 'statement': 73,\n 'senate': 74,\n 'member': 75,\n 'man': 76,\n 'democratic': 77,\n 'policy': 78,\n 'force': 79,\n 'try': 80,\n 'office': 81,\n 'help': 82,\n 'lead': 83,\n 'talk': 84,\n 'military': 85,\n 'department': 86,\n 'world': 87,\n 'public': 88,\n 'give': 89,\n 'long': 90,\n 'good': 91,\n 'case': 92,\n 'deal': 93,\n 'foreign': 94,\n 'change': 95,\n 'leave': 96,\n 'federal': 97,\n 'washington': 98,\n 'candidate': 99,\n 'tax': 100,\n 'hold': 101,\n 'post': 102,\n 'order': 103,\n 'thing': 104,\n 'city': 105,\n 'look': 106,\n 'get': 107,\n 'don': 108,\n 'find': 109,\n 'end': 110,\n 'minister': 111,\n 'image': 112,\n 'run': 113,\n 'china': 114,\n 'war': 115,\n 'rule': 116,\n 'russian': 117,\n 'tuesday': 118,\n 'claim': 119,\n 'see': 120,\n 'senator': 121,\n 'black': 122,\n 'point': 123,\n 'watch': 124,\n 'congress': 125,\n 'comment': 126,\n 'continue': 127,\n 'democrats': 128,\n 'speak': 129,\n 'believe': 130,\n 'wednesday': 131,\n 'friday': 132,\n 'agency': 133,\n 'question': 134,\n 'early': 135,\n 'high': 136,\n 'add': 137,\n 'general': 138,\n 'thursday': 139,\n 'company': 140,\n 'committee': 141,\n 'voter': 142,\n 'korea': 143,\n 'secretary': 144,\n 'conservative': 145,\n 'family': 146,\n 'power': 147,\n 'show': 148,\n 'pay': 149,\n 'americans': 150,\n 'business': 151,\n 'monday': 152,\n 'make': 153,\n 'kill': 154,\n 'job': 155,\n 'face': 156,\n 'allow': 157,\n 'investigation': 158,\n 'release': 159,\n 'old': 160,\n 'big': 161,\n 'source': 162,\n 'act': 163,\n 'reuters': 164,\n 'fact': 165,\n 'place': 166,\n 'program': 167,\n 'interview': 168,\n 'use': 169,\n 'child': 170,\n 'decision': 171,\n 'justice': 172,\n 'write': 173,\n 'york': 174,\n 'story': 175,\n 'control': 176,\n 'fbi': 177,\n 'iran': 178,\n 'nation': 179,\n 'meeting': 180,\n 'effort': 181,\n 'supporter': 182,\n 'follow': 183,\n 'action': 184,\n 'number': 185,\n 'fight': 186,\n 'border': 187,\n 'charge': 188,\n 'twitter': 189,\n 'reporter': 190,\n 'start': 191,\n 'base': 192,\n 'email': 193,\n 'anti': 194,\n 'happen': 195,\n 'syria': 196,\n 'great': 197,\n 'life': 198,\n 'meet': 199,\n 'speech': 200,\n 'fire': 201,\n 'mean': 202,\n 'stop': 203,\n 'home': 204,\n 'head': 205,\n 'tweet': 206,\n 'gun': 207,\n 'trade': 208,\n 'nuclear': 209,\n 'far': 210,\n 'intelligence': 211,\n 'school': 212,\n 'expect': 213,\n 'seek': 214,\n 'money': 215,\n 'bring': 216,\n 'south': 217,\n 'stand': 218,\n 'late': 219,\n 'chief': 220,\n 'close': 221,\n 'bad': 222,\n 'information': 223,\n 'live': 224,\n 'turn': 225,\n 'matter': 226,\n 'press': 227,\n 'appear': 228,\n 'clear': 229,\n 'director': 230,\n 'begin': 231,\n 'lose': 232,\n 'open': 233,\n 'provide': 234,\n 'refugee': 235,\n 'concern': 236,\n 'system': 237,\n 'send': 238,\n 'set': 239,\n 'sign': 240,\n 'ban': 241,\n 'poll': 242,\n 'officer': 243,\n 'fox': 244,\n 'muslim': 245,\n 'international': 246,\n 'large': 247,\n 'fund': 248,\n 'free': 249,\n 'john': 250,\n 'likely': 251,\n 'community': 252,\n 'let': 253,\n 'executive': 254,\n 'hope': 255,\n 'immigration': 256,\n 'health': 257,\n 'judge': 258,\n 'term': 259,\n 'elect': 260,\n 'consider': 261,\n 'pass': 262,\n 'today': 263,\n 'social': 264,\n 'service': 265,\n 'defense': 266,\n 'islamic': 267,\n 'event': 268,\n 'lawmaker': 269,\n 'protest': 270,\n 'barack': 271,\n 'visit': 272,\n 'march': 273,\n 'feature': 274,\n 'hand': 275,\n 'remain': 276,\n 'sunday': 277,\n 'accuse': 278,\n 'major': 279,\n 'cut': 280,\n 'recent': 281,\n 'nominee': 282,\n 'al': 283,\n 'governor': 284,\n 'attorney': 285,\n 'student': 286,\n 'democrat': 287,\n 'economic': 288,\n 'lie': 289,\n 'serve': 290,\n 've': 291,\n 'm': 292,\n 'create': 293,\n 'later': 294,\n 'debate': 295,\n 'raise': 296,\n 'violence': 297,\n 'return': 298,\n 'didn': 299,\n 'care': 300,\n 'real': 301,\n 'cnn': 302,\n 'problem': 303,\n 'agree': 304,\n 'wall': 305,\n 'eu': 306,\n 'read': 307,\n 'arrest': 308,\n 'authority': 309,\n 'receive': 310,\n 'sanction': 311,\n 'fail': 312,\n 'actually': 313,\n 'attempt': 314,\n 'threat': 315,\n 'legal': 316,\n 'team': 317,\n 'result': 318,\n 'away': 319,\n 'death': 320,\n 'past': 321,\n 'senior': 322,\n 'little': 323,\n 'organization': 324,\n 'spokesman': 325,\n 'area': 326,\n 'deny': 327,\n 'january': 328,\n 'human': 329,\n 'union': 330,\n 'record': 331,\n 'line': 332,\n 'illegal': 333,\n 'step': 334,\n 'doesn': 335,\n 'cruz': 336,\n 'well': 337,\n 'local': 338,\n 'person': 339,\n 'decide': 340,\n 'word': 341,\n 'race': 342,\n 'push': 343,\n 'hard': 344,\n 'request': 345,\n 'position': 346,\n 'ally': 347,\n 'majority': 348,\n 'protect': 349,\n 'respond': 350,\n 'response': 351,\n 'center': 352,\n 'view': 353,\n 'cause': 354,\n 'announce': 355,\n 'opposition': 356,\n 'low': 357,\n 'night': 358,\n 'european': 359,\n 'crime': 360,\n 'gop': 361,\n 'reason': 362,\n 'terrorist': 363,\n 'interest': 364,\n 'target': 365,\n 'prime': 366,\n 'increase': 367,\n 'break': 368,\n 'host': 369,\n 'air': 370,\n 'feel': 371,\n 'possible': 372,\n 'lot': 373,\n 'university': 374,\n 'play': 375,\n 'street': 376,\n 'rally': 377,\n 'july': 378,\n 'citizen': 379,\n 'sanders': 380,\n 'hear': 381,\n 'reform': 382,\n 'supreme': 383,\n 'discuss': 384,\n 'history': 385,\n 'process': 386,\n 'build': 387,\n 'agreement': 388,\n 'offer': 389,\n 'tie': 390,\n 'evidence': 391,\n 'liberal': 392,\n 'putin': 393,\n 'message': 394,\n 'cost': 395,\n 'share': 396,\n 'letter': 397,\n 'immigrant': 398,\n 'syrian': 399,\n 'saudi': 400,\n 'crisis': 401,\n 'november': 402,\n 'staff': 403,\n 'legislation': 404,\n 'weapon': 405,\n 'level': 406,\n 'involve': 407,\n 'special': 408,\n 'hour': 409,\n 'budget': 410,\n 'despite': 411,\n 'role': 412,\n 'lawyer': 413,\n 'list': 414,\n 'financial': 415,\n 'travel': 416,\n 'course': 417,\n 'spend': 418,\n 'mexico': 419,\n 'private': 420,\n 'strong': 421,\n 'young': 422,\n 'promise': 423,\n 'important': 424,\n 'june': 425,\n 'document': 426,\n 'missile': 427,\n 'saturday': 428,\n 'bank': 429,\n 'iraq': 430,\n 'decade': 431,\n 'comey': 432,\n 'note': 433,\n 'worker': 434,\n 'conference': 435,\n 'measure': 436,\n 'confirm': 437,\n 'region': 438,\n 'ago': 439,\n 'ryan': 440,\n 'criminal': 441,\n 'back': 442,\n 'future': 443,\n 'address': 444,\n 'council': 445,\n 'reach': 446,\n 'carry': 447,\n 'instead': 448,\n 'able': 449,\n 'd': 450,\n 'join': 451,\n 'facebook': 452,\n 'economy': 453,\n 'idea': 454,\n 'market': 455,\n 'require': 456,\n 'account': 457,\n 'shoot': 458,\n 'racist': 459,\n 'suggest': 460,\n 'coalition': 461,\n 'civil': 462,\n 'texas': 463,\n 'demand': 464,\n 'current': 465,\n 'review': 466,\n 'britain': 467,\n 'sure': 468,\n 'getty': 469,\n 'images': 470,\n 'hate': 471,\n 'operation': 472,\n 'individual': 473,\n 'threaten': 474,\n 'army': 475,\n 'love': 476,\n 'refuse': 477,\n 'describe': 478,\n 'fear': 479,\n 'middle': 480,\n 'focus': 481,\n 'challenge': 482,\n 'climate': 483,\n 'water': 484,\n 'israel': 485,\n 'obamacare': 486,\n 'defend': 487,\n 'friend': 488,\n 'chairman': 489,\n 'hit': 490,\n 'move': 491,\n 'small': 492,\n 'global': 493,\n 'strike': 494,\n 'fake': 495,\n 'times': 496,\n 'll': 497,\n 'block': 498,\n 'grow': 499,\n 'fall': 500,\n 'cover': 501,\n 'militant': 502,\n 'october': 503,\n 'december': 504,\n 'nearly': 505,\n 'victim': 506,\n 'thousand': 507,\n 'healthcare': 508,\n 'florida': 509,\n 'august': 510,\n 'district': 511,\n 'daily': 512,\n 'paul': 513,\n 'muslims': 514,\n 'oppose': 515,\n 'congressional': 516,\n 'urge': 517,\n 'east': 518,\n 'representative': 519,\n 'dollar': 520,\n 'protester': 521,\n 'adviser': 522,\n 'capital': 523,\n 'detail': 524,\n 'die': 525,\n 'oil': 526,\n 'turkey': 527,\n 'access': 528,\n 'blame': 529,\n 'mark': 530,\n 'explain': 531,\n 'left': 532,\n 'september': 533,\n 'outside': 534,\n 'immediately': 535,\n 'drive': 536,\n 'rate': 537,\n 'room': 538,\n 'germany': 539,\n 'rise': 540,\n 'county': 541,\n 'pro': 542,\n 'bush': 543,\n 'firm': 544,\n 'near': 545,\n 'movement': 546,\n 'form': 547,\n 'conflict': 548,\n 'son': 549,\n 'warn': 550,\n 'decline': 551,\n 'criticize': 552,\n 'network': 553,\n 'morning': 554,\n 'ministry': 555,\n 'file': 556,\n 'kind': 557,\n 'project': 558,\n 'april': 559,\n 'industry': 560,\n 'shooting': 561,\n 'investigate': 562,\n 'name': 563,\n 'parliament': 564,\n 'isn': 565,\n 'allegation': 566,\n 'ahead': 567,\n 'guy': 568,\n 'enforcement': 569,\n 'have': 570,\n 'link': 571,\n 'launch': 572,\n 'situation': 573,\n 'peace': 574,\n 'century': 575,\n 'presidency': 576,\n 'test': 577,\n 'answer': 578,\n 'freedom': 579,\n 'february': 580,\n 'key': 581,\n 'different': 582,\n 'cite': 583,\n 'nomination': 584,\n 'george': 585,\n 'stay': 586,\n 'employee': 587,\n 'energy': 588,\n 'suspect': 589,\n 'korean': 590,\n 'central': 591,\n 'chinese': 592,\n 'recently': 593,\n 'california': 594,\n 'risk': 595,\n 'incident': 596,\n 'non': 597,\n 'politic': 598,\n 'europe': 599,\n 'myanmar': 600,\n 'proposal': 601,\n 'conduct': 602,\n 'pressure': 603,\n 'represent': 604,\n 'primary': 605,\n 'million': 606,\n 'bernie': 607,\n 'vice': 608,\n 'activist': 609,\n 'page': 610,\n 'accept': 611,\n 'sexual': 612,\n 'flag': 613,\n 'town': 614,\n 'drop': 615,\n 'enter': 616,\n 'wife': 617,\n 'express': 618,\n 'propose': 619,\n 'pick': 620,\n 'western': 621,\n 'prove': 622,\n 'expert': 623,\n 'james': 624,\n 'remove': 625,\n 'remark': 626,\n 'choose': 627,\n 'entire': 628,\n 'approve': 629,\n 'keep': 630,\n 'foundation': 631,\n 'drug': 632,\n 'benefit': 633,\n 'aim': 634,\n 'tillerson': 635,\n 'funding': 636,\n 'terrorism': 637,\n 'refer': 638,\n 'soon': 639,\n 'british': 640,\n 'arm': 641,\n 'victory': 642,\n 'board': 643,\n 'reveal': 644,\n 'crowd': 645,\n 'photo': 646,\n 'college': 647,\n 'relation': 648,\n 'hearing': 649,\n 'short': 650,\n 'aid': 651,\n 'understand': 652,\n 'wrong': 653,\n 'ground': 654,\n 'argue': 655,\n 'draw': 656,\n 'prevent': 657,\n 'favor': 658,\n 'commission': 659,\n 'insurance': 660,\n 'politician': 661,\n 'personal': 662,\n 'half': 663,\n 'influence': 664,\n 'true': 665,\n 'clearly': 666,\n 'truth': 667,\n 'murder': 668,\n 'seat': 669,\n 'direct': 670,\n 'flynn': 671,\n 'declare': 672,\n 'agent': 673,\n 'father': 674,\n 'star': 675,\n 'relationship': 676,\n 'assault': 677,\n 'west': 678,\n 'forward': 679,\n 'secret': 680,\n 'especially': 681,\n 'website': 682,\n 'sit': 683,\n 'article': 684,\n 'thank': 685,\n 'opinion': 686,\n 'deputy': 687,\n 'book': 688,\n 'price': 689,\n 'aide': 690,\n 'cia': 691,\n 'prosecutor': 692,\n 'phone': 693,\n 'class': 694,\n 'wing': 695,\n 'appeal': 696,\n 'potential': 697,\n 'mccain': 698,\n 'abortion': 699,\n 'rubio': 700,\n 'buy': 701,\n 'nations': 702,\n 'sell': 703,\n 'condition': 704,\n 'destroy': 705,\n 'respect': 706,\n 'single': 707,\n 'moscow': 708,\n 'example': 709,\n 'relate': 710,\n 'agenda': 711,\n 'car': 712,\n 'allege': 713,\n 'pence': 714,\n 'reject': 715,\n 'publish': 716,\n 'repeal': 717,\n 'regulation': 718,\n 'replace': 719,\n 'datum': 720,\n 'mayor': 721,\n 'independence': 722,\n 'protection': 723,\n 'body': 724,\n 'attend': 725,\n 'main': 726,\n 'probably': 727,\n 'total': 728,\n 'income': 729,\n 'final': 730,\n 'land': 731,\n 'chance': 732,\n 'bear': 733,\n 'michael': 734,\n 'mike': 735,\n 'journalist': 736,\n 'african': 737,\n 'minority': 738,\n 'brexit': 739,\n 'resident': 740,\n 'german': 741,\n 'figure': 742,\n 'capture': 743,\n 'throw': 744,\n 'taxis': 745,\n 'arabia': 746,\n 'commit': 747,\n 'hack': 748,\n 'ambassador': 749,\n 'isis': 750,\n 'admit': 751,\n 'speaker': 752,\n 'stage': 753,\n 'convention': 754,\n 'constitution': 755,\n 'tv': 756,\n 'carolina': 757,\n 'island': 758,\n 'debt': 759,\n 'previously': 760,\n 'religious': 761,\n 'limit': 762,\n 'moment': 763,\n 'representatives': 764,\n 'featured': 765,\n 'leadership': 766,\n 'japan': 767,\n 'ted': 768,\n 'wasn': 769,\n 'check': 770,\n 'spending': 771,\n 'simply': 772,\n 'david': 773,\n 'criticism': 774,\n 'probe': 775,\n 'lawsuit': 776,\n 'reality': 777,\n 'gain': 778,\n 'popular': 779,\n 'mention': 780,\n 'independent': 781,\n 'panel': 782,\n 'building': 783,\n 'avoid': 784,\n 'wait': 785,\n 'migrant': 786,\n 'scandal': 787,\n 'food': 788,\n 'choice': 789,\n 'critic': 790,\n 'voice': 791,\n 'self': 792,\n 'pretty': 793,\n 'identify': 794,\n 'mother': 795,\n 'merkel': 796,\n 'value': 797,\n 'troop': 798,\n 'wire': 799,\n 'ensure': 800,\n 'impose': 801,\n 'violent': 802,\n 'pull': 803,\n 'poor': 804,\n 'hundred': 805,\n 'similar': 806,\n 'exchange': 807,\n 'safe': 808,\n 'trip': 809,\n 'investment': 810,\n 'pledge': 811,\n 'battle': 812,\n 'corruption': 813,\n 'education': 814,\n 'present': 815,\n 'deliver': 816,\n 'ruling': 817,\n 'repeatedly': 818,\n 'learn': 819,\n 'soldier': 820,\n 'currently': 821,\n 'development': 822,\n 'rival': 823,\n 'mass': 824,\n 'sex': 825,\n 'co': 826,\n 'nato': 827,\n 'media': 828,\n 'tough': 829,\n 'parent': 830,\n 'complete': 831,\n 'grant': 832,\n 'activity': 833,\n 'lack': 834,\n 'site': 835,\n 'girl': 836,\n 'france': 837,\n 'credit': 838,\n 'effect': 839,\n 'kid': 840,\n 'voting': 841,\n 'finance': 842,\n 'prison': 843,\n 'amendment': 844,\n 'contact': 845,\n 'walk': 846,\n 'church': 847,\n 'robert': 848,\n 'inside': 849,\n 'bomb': 850,\n 'rohingya': 851,\n 'apparently': 852,\n 'fraud': 853,\n 'dozen': 854,\n 'northern': 855,\n 'christian': 856,\n 'dead': 857,\n 'mind': 858,\n 'damage': 859,\n 'rich': 860,\n 'leak': 861,\n 'partner': 862,\n 'armed': 863,\n 'dangerous': 864,\n 'research': 865,\n 'mainstream': 866,\n 'regional': 867,\n 'powerful': 868,\n 'impact': 869,\n 'johnson': 870,\n 'minute': 871,\n 'transition': 872,\n 'promote': 873,\n 'completely': 874,\n 'medical': 875,\n 'spokeswoman': 876,\n 'internet': 877,\n 'population': 878,\n 'sentence': 879,\n 'discussion': 880,\n 'abuse': 881,\n 'opportunity': 882,\n 'deep': 883,\n 'put': 884,\n 'democracy': 885,\n 'absolutely': 886,\n 'newspaper': 887,\n 'reduce': 888,\n 'ready': 889,\n 'moore': 890,\n 'exactly': 891,\n 'daughter': 892,\n 'resign': 893,\n 'radio': 894,\n 'catch': 895,\n 'shut': 896,\n 'gay': 897,\n 'jail': 898,\n 'opponent': 899,\n 'trust': 900,\n 'television': 901,\n 'standard': 902,\n 'expand': 903,\n 'defeat': 904,\n 'experience': 905,\n 'kelly': 906,\n 'yes': 907,\n 'tension': 908,\n 'side': 909,\n 'diplomat': 910,\n 'previous': 911,\n 'quickly': 912,\n 'king': 913,\n 'rebel': 914,\n 'joe': 915,\n 'southern': 916,\n 'huge': 917,\n 'negotiation': 918,\n 'safety': 919,\n 'kurdish': 920,\n 'wear': 921,\n 'conversation': 922,\n 'vehicle': 923,\n 'veteran': 924,\n 'terror': 925,\n 'iraqi': 926,\n 'responsible': 927,\n 'approach': 928,\n 'affect': 929,\n 'breitbart': 930,\n 'society': 931,\n 'radical': 932,\n 'study': 933,\n 'coverage': 934,\n 'san': 935,\n 'bar': 936,\n 'fuel': 937,\n 'virginia': 938,\n 'online': 939,\n 'violate': 940,\n 'subject': 941,\n 'remember': 942,\n 'afghanistan': 943,\n 'screen': 944,\n 'strategy': 945,\n 'behavior': 946,\n 'save': 947,\n 'mcconnell': 948,\n 'god': 949,\n 'cuba': 950,\n 'light': 951,\n 'certain': 952,\n 'session': 953,\n 'attention': 954,\n 'certainly': 955,\n 'fellow': 956,\n 'ad': 957,\n 'exist': 958,\n 'series': 959,\n 'treat': 960,\n 'goal': 961,\n 'age': 962,\n 'finally': 963,\n 'progress': 964,\n 'game': 965,\n 'flee': 966,\n 'establishment': 967,\n 'accusation': 968,\n 'listen': 969,\n 'de': 970,\n 'schedule': 971,\n 'husband': 972,\n 'struggle': 973,\n 'arrive': 974,\n 'expose': 975,\n 'taxpayer': 976,\n 'rest': 977,\n 'labor': 978,\n 'date': 979,\n 'prepare': 980,\n 'o': 981,\n 'hurt': 982,\n 'visa': 983,\n 'common': 984,\n 'hospital': 985,\n 'wage': 986,\n 'sense': 987,\n 'chicago': 988,\n 'false': 989,\n 'diplomatic': 990,\n 'maybe': 991,\n 'cabinet': 992,\n 'miss': 993,\n 'french': 994,\n 'range': 995,\n 'picture': 996,\n 'ignore': 997,\n 'michigan': 998,\n 'couple': 999,\n 'civilian': 1000,\n ...}"
     },
     "execution_count": 60,
     "metadata": {},
     "output_type": "execute_result"
    }
   ],
   "source": [
    "vocabulary = {v: k for k, v in dict(enumerate(tokens_filtered_top, 1)).items()}"
   ]
  },
  {
   "cell_type": "code",
   "execution_count": 61,
   "metadata": {
    "colab": {
     "base_uri": "https://localhost:8080/"
    },
    "id": "sqEK4x9ZSU6J",
    "outputId": "a83af798-6790-4f7e-f29d-c2a42725c1a8",
    "ExecuteTime": {
     "end_time": "2023-11-04T16:25:50.691307800Z",
     "start_time": "2023-11-04T16:25:50.668272100Z"
    }
   },
   "outputs": [
    {
     "data": {
      "text/plain": "9999"
     },
     "execution_count": 61,
     "metadata": {},
     "output_type": "execute_result"
    }
   ],
   "source": [
    "len(vocabulary)"
   ]
  },
  {
   "cell_type": "code",
   "execution_count": 70,
   "metadata": {
    "id": "ntoNwLKNM3e-",
    "ExecuteTime": {
     "end_time": "2023-11-04T16:30:50.044613500Z",
     "start_time": "2023-11-04T16:30:50.002588Z"
    }
   },
   "outputs": [],
   "source": [
    "# Заполнение паддинга нулями\n",
    "def text_to_sequence(tokens, maxlen):\n",
    "    result = []\n",
    "    tokens_filtered = [word for word in tokens if word.isalnum()]\n",
    "    for word in tokens_filtered:\n",
    "        if word in vocabulary:\n",
    "            result.append(vocabulary[word])\n",
    "    padding = [0]*(maxlen-len(result))\n",
    "    return padding + result[-maxlen:]"
   ]
  },
  {
   "cell_type": "code",
   "execution_count": 73,
   "metadata": {
    "id": "wVbnaZ0mPaND",
    "colab": {
     "base_uri": "https://localhost:8080/",
     "height": 113,
     "referenced_widgets": [
      "12052d293fb040aea37906a1b6dfde8a",
      "4a875accd8af44898949d34885574aec",
      "ab30db5317564402af1b399336a54d22",
      "8cad523c9e2d4f789ecd8c11f48236cc",
      "f598be80f52d4269980d5f5e967b7525",
      "6c158c0975cb4a86b44a38ba077968c9",
      "41f8562cadf9420b901cc5964ef54d79",
      "cd2082c809cc4c53a3c569ced4ffafd5",
      "b6a4ba6ed3774d23b1591cb6e5d0174a",
      "9ce456200532414aa37c55c1c4055320",
      "a881ad1060584e3891589ebd8f9fbadf",
      "a62b39138fd24d6685746b4db5db5299",
      "fa16bf35d5cc44ec8067fbe0e448bc8b",
      "34e4d6a5b45e46a3a3b3d08fddc11f24",
      "00256ab507484e13b9877f335e8540de",
      "4642d0f223494c42ad63da3b6846c83b",
      "67581106c5bc4c809de9adf44f8d7964",
      "3986eec03d07422ca8a03ef253155c4e",
      "ab6ef40fc7044f4b9fc75d342e952686",
      "d20f59817225426f868e1a75b193c71b",
      "c2228a20a7e1410895b24d5150a0d197",
      "09c4b7779af34c50b0349e4cd68e9128",
      "bddcb088699c432198e2afe17fd7cb1b",
      "c3eb737949814a9c9ac37b8854c578d7",
      "144d704c7bd6479ba2972269bca39eaa",
      "36a2730bf9c7484cb571f9e9e9169ae7",
      "149ded6ae5734522bacb95ac7f87324f",
      "cabbf0b4ab0d4a1a8bd1b78165cdf6e3",
      "f0fb761673d841899434de0424b0a464",
      "e1f27ec7c33d4d2ab513708eeaa69581",
      "e4139682c7904caf95065d5e5cf6596a",
      "378d4d2530994383a0b0d81e392b2faa",
      "d082312c1e864cd9b928631c932c069d"
     ]
    },
    "outputId": "40f8ff0b-6213-4985-d79b-be9fd31cf84a",
    "ExecuteTime": {
     "end_time": "2023-11-04T16:32:03.962958800Z",
     "start_time": "2023-11-04T16:31:57.931953300Z"
    }
   },
   "outputs": [
    {
     "data": {
      "text/plain": "  0%|          | 0/26938 [00:00<?, ?it/s]",
      "application/vnd.jupyter.widget-view+json": {
       "version_major": 2,
       "version_minor": 0,
       "model_id": "ee01e5908bbf4f63b5f27fd57f92aa69"
      }
     },
     "metadata": {},
     "output_type": "display_data"
    },
    {
     "data": {
      "text/plain": "  0%|          | 0/8980 [00:00<?, ?it/s]",
      "application/vnd.jupyter.widget-view+json": {
       "version_major": 2,
       "version_minor": 0,
       "model_id": "de6891e2ffd5418eb25bde4bad5b0715"
      }
     },
     "metadata": {},
     "output_type": "display_data"
    },
    {
     "data": {
      "text/plain": "  0%|          | 0/8980 [00:00<?, ?it/s]",
      "application/vnd.jupyter.widget-view+json": {
       "version_major": 2,
       "version_minor": 0,
       "model_id": "00fee2f693714b89ad019719a951dbad"
      }
     },
     "metadata": {},
     "output_type": "display_data"
    },
    {
     "data": {
      "text/plain": "array([[ 110, 3054,  134, ...,  266,   10,   43],\n       [   0,    0,    0, ..., 6641,   69, 8893],\n       [1340, 2468,   16, ...,  305,  376, 2004],\n       [   3,   28,   46, ...,  107,  866,  756],\n       [   0,    0,    0, ...,  140,  924, 4292]])"
     },
     "execution_count": 73,
     "metadata": {},
     "output_type": "execute_result"
    }
   ],
   "source": [
    "max_len = 300\n",
    "x_train = np.array([text_to_sequence(text, max_len) for text in tqdm(X_train)], dtype=np.int32)\n",
    "x_test = np.array([text_to_sequence(text, max_len) for text in tqdm(X_test)], dtype=np.int32)\n",
    "x_valid = np.array([text_to_sequence(text, max_len) for text in tqdm(X_valid)], dtype=np.int32)\n",
    "y_train = np.array(y_train)\n",
    "y_test = np.array(y_test)\n",
    "y_valid = np.array(y_valid)\n",
    "x_train[:5,:]"
   ]
  },
  {
   "cell_type": "code",
   "execution_count": 74,
   "outputs": [],
   "source": [
    "device = torch.device('cuda' if torch.cuda.is_available() else 'cpu')"
   ],
   "metadata": {
    "collapsed": false,
    "ExecuteTime": {
     "end_time": "2023-11-04T16:32:25.048508300Z",
     "start_time": "2023-11-04T16:32:25.014567600Z"
    }
   }
  },
  {
   "cell_type": "markdown",
   "source": [
    "# Модели"
   ],
   "metadata": {
    "collapsed": false
   }
  },
  {
   "cell_type": "markdown",
   "source": [
    "## CNN Text Classification\n",
    "\n",
    "![image.png](data:image/png;base64,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)"
   ],
   "metadata": {
    "collapsed": false
   }
  },
  {
   "cell_type": "markdown",
   "source": [
    "## LSTM\n",
    "\n"
   ],
   "metadata": {
    "collapsed": false
   }
  },
  {
   "cell_type": "markdown",
   "source": [
    "## Обучение модели"
   ],
   "metadata": {
    "collapsed": false
   }
  },
  {
   "cell_type": "code",
   "execution_count": 75,
   "metadata": {
    "id": "onI0RTGBPaTw",
    "ExecuteTime": {
     "end_time": "2023-11-04T16:32:26.559897900Z",
     "start_time": "2023-11-04T16:32:26.536896400Z"
    }
   },
   "outputs": [],
   "source": [
    "class ConvTextClassifier(nn.Module):\n",
    "    def __init__(self, vocab_size=10000, embedding_dim=128, out_channel=128, num_classes=2):\n",
    "        super().__init__()\n",
    "        self.embedding = nn.Embedding(vocab_size, embedding_dim)\n",
    "        self.conv = nn.Conv1d(embedding_dim, out_channel, kernel_size=3)\n",
    "        self.relu = nn.ReLU()\n",
    "        self.linear = nn.Linear(out_channel, num_classes)\n",
    "\n",
    "    def forward(self, x):\n",
    "        output = self.embedding(x)\n",
    "        output = output.permute(0, 2, 1) # bs, emb_dim, len\n",
    "        output = self.conv(output)\n",
    "        output = self.relu(output)\n",
    "        output = torch.max(output, axis=2).values\n",
    "        output = self.linear(output)\n",
    "        return output"
   ]
  },
  {
   "cell_type": "code",
   "execution_count": 76,
   "metadata": {
    "id": "kPpAsVN-PaWV",
    "ExecuteTime": {
     "end_time": "2023-11-04T16:32:28.256105800Z",
     "start_time": "2023-11-04T16:32:28.230965800Z"
    }
   },
   "outputs": [],
   "source": [
    "class TextDataWrapper(Dataset):\n",
    "    def __init__(self, data, target=None, transform=None):\n",
    "        self.data = torch.from_numpy(data).long()\n",
    "        if target is not None:\n",
    "            self.target = torch.from_numpy(target).long()\n",
    "        else:\n",
    "          self.target = None\n",
    "        self.transform = transform\n",
    "\n",
    "    def __getitem__(self, index):\n",
    "        x = self.data[index]\n",
    "        y = self.target[index] if self.target is not None else -1\n",
    "\n",
    "        if self.transform:\n",
    "            x = self.transform(x)\n",
    "        return x, y\n",
    "\n",
    "    def __len__(self):\n",
    "        return len(self.data)"
   ]
  },
  {
   "cell_type": "code",
   "execution_count": 79,
   "outputs": [],
   "source": [
    "import torch.nn as nn\n",
    "\n",
    "class LSTMTextClassifier(nn.Module):\n",
    "    def __init__(self, vocab_size=10000, embedding_dim=128, hid_size=64, num_classes=2):\n",
    "        super().__init__()\n",
    "        self.embedding = nn.Embedding(num_embeddings=vocab_size, embedding_dim=embedding_dim)\n",
    "        self.lstm = nn.LSTM(input_size=embedding_dim, hidden_size=hid_size, batch_first=True)\n",
    "        self.linear = nn.Linear(in_features=hid_size, out_features=num_classes)\n",
    "\n",
    "    def forward(self, x):\n",
    "        input_ix = torch.as_tensor(x).to(device)\n",
    "        out = self.embedding(input_ix)\n",
    "        out, (hn, cn) = self.lstm(out)\n",
    "        out = self.linear(out)\n",
    "        return out # output tensor should be of shape [batch_size, sequence_length, n_tokens]"
   ],
   "metadata": {
    "collapsed": false,
    "ExecuteTime": {
     "end_time": "2023-11-04T16:50:53.016631900Z",
     "start_time": "2023-11-04T16:50:52.781091700Z"
    }
   }
  },
  {
   "cell_type": "code",
   "execution_count": 80,
   "outputs": [],
   "source": [
    "batch_size = 256\n",
    "epochs = 10"
   ],
   "metadata": {
    "collapsed": false,
    "ExecuteTime": {
     "end_time": "2023-11-04T16:51:32.391170200Z",
     "start_time": "2023-11-04T16:51:32.363851400Z"
    }
   }
  },
  {
   "cell_type": "code",
   "execution_count": 81,
   "outputs": [],
   "source": [
    "def train_model(model, epochs):\n",
    "    print(model)\n",
    "    print(\"Parameters:\", sum([param.nelement() for param in model.parameters()]))\n",
    "\n",
    "    model.to(device)\n",
    "    f1 = F1Score(task=\"binary\")\n",
    "    f1.to(device)\n",
    "    optimizer = torch.optim.Adam(model.parameters(), lr=10e-3)\n",
    "    criterion = nn.CrossEntropyLoss()\n",
    "\n",
    "    train_dataset = TextDataWrapper(x_train, y_train)\n",
    "    train_loader = DataLoader(train_dataset, batch_size=batch_size, shuffle=True)\n",
    "\n",
    "    valid_dataset = TextDataWrapper(x_valid, y_valid)\n",
    "    valid_loader = DataLoader(valid_dataset, batch_size=batch_size, shuffle=True)\n",
    "\n",
    "    loss_history = []\n",
    "    model.train()\n",
    "    for epoch in range(1,epochs+1):\n",
    "        print(f\"Train epoch {epoch}/{epochs}\")\n",
    "        temp_loss = []\n",
    "        temp_metrics = []\n",
    "        for i, (data, target) in enumerate(train_loader):\n",
    "            optimizer.zero_grad()\n",
    "\n",
    "            data = data.to(device)\n",
    "            target = target.to(device)\n",
    "            output = model(data)\n",
    "\n",
    "            loss = criterion(output, target)\n",
    "            loss.backward()\n",
    "\n",
    "            optimizer.step()\n",
    "            temp_loss.append(loss.float().item())\n",
    "            temp_metrics.append(f1(output.argmax(1), target).item())\n",
    "\n",
    "        epoch_loss = np.array(temp_loss).mean()\n",
    "        epoch_f1 = np.array(temp_metrics).mean()\n",
    "        print(f'Loss: {epoch_loss}, f1 score: {epoch_f1}')"
   ],
   "metadata": {
    "collapsed": false,
    "ExecuteTime": {
     "end_time": "2023-11-04T16:51:32.579014900Z",
     "start_time": "2023-11-04T16:51:32.513933600Z"
    }
   }
  },
  {
   "cell_type": "code",
   "execution_count": null,
   "outputs": [],
   "source": [
    "train_model(ConvTextClassifier(), epochs)"
   ],
   "metadata": {
    "collapsed": false
   }
  },
  {
   "cell_type": "code",
   "execution_count": null,
   "outputs": [],
   "source": [
    "train_model(LSTMTextClassifier(), epochs)"
   ],
   "metadata": {
    "collapsed": false
   }
  },
  {
   "cell_type": "code",
   "execution_count": null,
   "metadata": {
    "colab": {
     "base_uri": "https://localhost:8080/"
    },
    "id": "6Sfar-i4QASk",
    "outputId": "87de8e90-e364-43ae-e6ba-77f0b06db674"
   },
   "outputs": [],
   "source": []
  }
 ],
 "metadata": {
  "colab": {
   "provenance": [],
   "gpuType": "T4",
   "toc_visible": true
  },
  "kernelspec": {
   "name": "python3",
   "language": "python",
   "display_name": "Python 3 (ipykernel)"
  },
  "language_info": {
   "name": "python"
  },
  "widgets": {
   "application/vnd.jupyter.widget-state+json": {
    "12052d293fb040aea37906a1b6dfde8a": {
     "model_module": "@jupyter-widgets/controls",
     "model_name": "HBoxModel",
     "model_module_version": "1.5.0",
     "state": {
      "_dom_classes": [],
      "_model_module": "@jupyter-widgets/controls",
      "_model_module_version": "1.5.0",
      "_model_name": "HBoxModel",
      "_view_count": null,
      "_view_module": "@jupyter-widgets/controls",
      "_view_module_version": "1.5.0",
      "_view_name": "HBoxView",
      "box_style": "",
      "children": [
       "IPY_MODEL_4a875accd8af44898949d34885574aec",
       "IPY_MODEL_ab30db5317564402af1b399336a54d22",
       "IPY_MODEL_8cad523c9e2d4f789ecd8c11f48236cc"
      ],
      "layout": "IPY_MODEL_f598be80f52d4269980d5f5e967b7525"
     }
    },
    "4a875accd8af44898949d34885574aec": {
     "model_module": "@jupyter-widgets/controls",
     "model_name": "HTMLModel",
     "model_module_version": "1.5.0",
     "state": {
      "_dom_classes": [],
      "_model_module": "@jupyter-widgets/controls",
      "_model_module_version": "1.5.0",
      "_model_name": "HTMLModel",
      "_view_count": null,
      "_view_module": "@jupyter-widgets/controls",
      "_view_module_version": "1.5.0",
      "_view_name": "HTMLView",
      "description": "",
      "description_tooltip": null,
      "layout": "IPY_MODEL_6c158c0975cb4a86b44a38ba077968c9",
      "placeholder": "​",
      "style": "IPY_MODEL_41f8562cadf9420b901cc5964ef54d79",
      "value": "100%"
     }
    },
    "ab30db5317564402af1b399336a54d22": {
     "model_module": "@jupyter-widgets/controls",
     "model_name": "FloatProgressModel",
     "model_module_version": "1.5.0",
     "state": {
      "_dom_classes": [],
      "_model_module": "@jupyter-widgets/controls",
      "_model_module_version": "1.5.0",
      "_model_name": "FloatProgressModel",
      "_view_count": null,
      "_view_module": "@jupyter-widgets/controls",
      "_view_module_version": "1.5.0",
      "_view_name": "ProgressView",
      "bar_style": "success",
      "description": "",
      "description_tooltip": null,
      "layout": "IPY_MODEL_cd2082c809cc4c53a3c569ced4ffafd5",
      "max": 181467,
      "min": 0,
      "orientation": "horizontal",
      "style": "IPY_MODEL_b6a4ba6ed3774d23b1591cb6e5d0174a",
      "value": 181467
     }
    },
    "8cad523c9e2d4f789ecd8c11f48236cc": {
     "model_module": "@jupyter-widgets/controls",
     "model_name": "HTMLModel",
     "model_module_version": "1.5.0",
     "state": {
      "_dom_classes": [],
      "_model_module": "@jupyter-widgets/controls",
      "_model_module_version": "1.5.0",
      "_model_name": "HTMLModel",
      "_view_count": null,
      "_view_module": "@jupyter-widgets/controls",
      "_view_module_version": "1.5.0",
      "_view_name": "HTMLView",
      "description": "",
      "description_tooltip": null,
      "layout": "IPY_MODEL_9ce456200532414aa37c55c1c4055320",
      "placeholder": "​",
      "style": "IPY_MODEL_a881ad1060584e3891589ebd8f9fbadf",
      "value": " 181467/181467 [00:39&lt;00:00, 5325.64it/s]"
     }
    },
    "f598be80f52d4269980d5f5e967b7525": {
     "model_module": "@jupyter-widgets/base",
     "model_name": "LayoutModel",
     "model_module_version": "1.2.0",
     "state": {
      "_model_module": "@jupyter-widgets/base",
      "_model_module_version": "1.2.0",
      "_model_name": "LayoutModel",
      "_view_count": null,
      "_view_module": "@jupyter-widgets/base",
      "_view_module_version": "1.2.0",
      "_view_name": "LayoutView",
      "align_content": null,
      "align_items": null,
      "align_self": null,
      "border": null,
      "bottom": null,
      "display": null,
      "flex": null,
      "flex_flow": null,
      "grid_area": null,
      "grid_auto_columns": null,
      "grid_auto_flow": null,
      "grid_auto_rows": null,
      "grid_column": null,
      "grid_gap": null,
      "grid_row": null,
      "grid_template_areas": null,
      "grid_template_columns": null,
      "grid_template_rows": null,
      "height": null,
      "justify_content": null,
      "justify_items": null,
      "left": null,
      "margin": null,
      "max_height": null,
      "max_width": null,
      "min_height": null,
      "min_width": null,
      "object_fit": null,
      "object_position": null,
      "order": null,
      "overflow": null,
      "overflow_x": null,
      "overflow_y": null,
      "padding": null,
      "right": null,
      "top": null,
      "visibility": null,
      "width": null
     }
    },
    "6c158c0975cb4a86b44a38ba077968c9": {
     "model_module": "@jupyter-widgets/base",
     "model_name": "LayoutModel",
     "model_module_version": "1.2.0",
     "state": {
      "_model_module": "@jupyter-widgets/base",
      "_model_module_version": "1.2.0",
      "_model_name": "LayoutModel",
      "_view_count": null,
      "_view_module": "@jupyter-widgets/base",
      "_view_module_version": "1.2.0",
      "_view_name": "LayoutView",
      "align_content": null,
      "align_items": null,
      "align_self": null,
      "border": null,
      "bottom": null,
      "display": null,
      "flex": null,
      "flex_flow": null,
      "grid_area": null,
      "grid_auto_columns": null,
      "grid_auto_flow": null,
      "grid_auto_rows": null,
      "grid_column": null,
      "grid_gap": null,
      "grid_row": null,
      "grid_template_areas": null,
      "grid_template_columns": null,
      "grid_template_rows": null,
      "height": null,
      "justify_content": null,
      "justify_items": null,
      "left": null,
      "margin": null,
      "max_height": null,
      "max_width": null,
      "min_height": null,
      "min_width": null,
      "object_fit": null,
      "object_position": null,
      "order": null,
      "overflow": null,
      "overflow_x": null,
      "overflow_y": null,
      "padding": null,
      "right": null,
      "top": null,
      "visibility": null,
      "width": null
     }
    },
    "41f8562cadf9420b901cc5964ef54d79": {
     "model_module": "@jupyter-widgets/controls",
     "model_name": "DescriptionStyleModel",
     "model_module_version": "1.5.0",
     "state": {
      "_model_module": "@jupyter-widgets/controls",
      "_model_module_version": "1.5.0",
      "_model_name": "DescriptionStyleModel",
      "_view_count": null,
      "_view_module": "@jupyter-widgets/base",
      "_view_module_version": "1.2.0",
      "_view_name": "StyleView",
      "description_width": ""
     }
    },
    "cd2082c809cc4c53a3c569ced4ffafd5": {
     "model_module": "@jupyter-widgets/base",
     "model_name": "LayoutModel",
     "model_module_version": "1.2.0",
     "state": {
      "_model_module": "@jupyter-widgets/base",
      "_model_module_version": "1.2.0",
      "_model_name": "LayoutModel",
      "_view_count": null,
      "_view_module": "@jupyter-widgets/base",
      "_view_module_version": "1.2.0",
      "_view_name": "LayoutView",
      "align_content": null,
      "align_items": null,
      "align_self": null,
      "border": null,
      "bottom": null,
      "display": null,
      "flex": null,
      "flex_flow": null,
      "grid_area": null,
      "grid_auto_columns": null,
      "grid_auto_flow": null,
      "grid_auto_rows": null,
      "grid_column": null,
      "grid_gap": null,
      "grid_row": null,
      "grid_template_areas": null,
      "grid_template_columns": null,
      "grid_template_rows": null,
      "height": null,
      "justify_content": null,
      "justify_items": null,
      "left": null,
      "margin": null,
      "max_height": null,
      "max_width": null,
      "min_height": null,
      "min_width": null,
      "object_fit": null,
      "object_position": null,
      "order": null,
      "overflow": null,
      "overflow_x": null,
      "overflow_y": null,
      "padding": null,
      "right": null,
      "top": null,
      "visibility": null,
      "width": null
     }
    },
    "b6a4ba6ed3774d23b1591cb6e5d0174a": {
     "model_module": "@jupyter-widgets/controls",
     "model_name": "ProgressStyleModel",
     "model_module_version": "1.5.0",
     "state": {
      "_model_module": "@jupyter-widgets/controls",
      "_model_module_version": "1.5.0",
      "_model_name": "ProgressStyleModel",
      "_view_count": null,
      "_view_module": "@jupyter-widgets/base",
      "_view_module_version": "1.2.0",
      "_view_name": "StyleView",
      "bar_color": null,
      "description_width": ""
     }
    },
    "9ce456200532414aa37c55c1c4055320": {
     "model_module": "@jupyter-widgets/base",
     "model_name": "LayoutModel",
     "model_module_version": "1.2.0",
     "state": {
      "_model_module": "@jupyter-widgets/base",
      "_model_module_version": "1.2.0",
      "_model_name": "LayoutModel",
      "_view_count": null,
      "_view_module": "@jupyter-widgets/base",
      "_view_module_version": "1.2.0",
      "_view_name": "LayoutView",
      "align_content": null,
      "align_items": null,
      "align_self": null,
      "border": null,
      "bottom": null,
      "display": null,
      "flex": null,
      "flex_flow": null,
      "grid_area": null,
      "grid_auto_columns": null,
      "grid_auto_flow": null,
      "grid_auto_rows": null,
      "grid_column": null,
      "grid_gap": null,
      "grid_row": null,
      "grid_template_areas": null,
      "grid_template_columns": null,
      "grid_template_rows": null,
      "height": null,
      "justify_content": null,
      "justify_items": null,
      "left": null,
      "margin": null,
      "max_height": null,
      "max_width": null,
      "min_height": null,
      "min_width": null,
      "object_fit": null,
      "object_position": null,
      "order": null,
      "overflow": null,
      "overflow_x": null,
      "overflow_y": null,
      "padding": null,
      "right": null,
      "top": null,
      "visibility": null,
      "width": null
     }
    },
    "a881ad1060584e3891589ebd8f9fbadf": {
     "model_module": "@jupyter-widgets/controls",
     "model_name": "DescriptionStyleModel",
     "model_module_version": "1.5.0",
     "state": {
      "_model_module": "@jupyter-widgets/controls",
      "_model_module_version": "1.5.0",
      "_model_name": "DescriptionStyleModel",
      "_view_count": null,
      "_view_module": "@jupyter-widgets/base",
      "_view_module_version": "1.2.0",
      "_view_name": "StyleView",
      "description_width": ""
     }
    },
    "a62b39138fd24d6685746b4db5db5299": {
     "model_module": "@jupyter-widgets/controls",
     "model_name": "HBoxModel",
     "model_module_version": "1.5.0",
     "state": {
      "_dom_classes": [],
      "_model_module": "@jupyter-widgets/controls",
      "_model_module_version": "1.5.0",
      "_model_name": "HBoxModel",
      "_view_count": null,
      "_view_module": "@jupyter-widgets/controls",
      "_view_module_version": "1.5.0",
      "_view_name": "HBoxView",
      "box_style": "",
      "children": [
       "IPY_MODEL_fa16bf35d5cc44ec8067fbe0e448bc8b",
       "IPY_MODEL_34e4d6a5b45e46a3a3b3d08fddc11f24",
       "IPY_MODEL_00256ab507484e13b9877f335e8540de"
      ],
      "layout": "IPY_MODEL_4642d0f223494c42ad63da3b6846c83b"
     }
    },
    "fa16bf35d5cc44ec8067fbe0e448bc8b": {
     "model_module": "@jupyter-widgets/controls",
     "model_name": "HTMLModel",
     "model_module_version": "1.5.0",
     "state": {
      "_dom_classes": [],
      "_model_module": "@jupyter-widgets/controls",
      "_model_module_version": "1.5.0",
      "_model_name": "HTMLModel",
      "_view_count": null,
      "_view_module": "@jupyter-widgets/controls",
      "_view_module_version": "1.5.0",
      "_view_name": "HTMLView",
      "description": "",
      "description_tooltip": null,
      "layout": "IPY_MODEL_67581106c5bc4c809de9adf44f8d7964",
      "placeholder": "​",
      "style": "IPY_MODEL_3986eec03d07422ca8a03ef253155c4e",
      "value": "100%"
     }
    },
    "34e4d6a5b45e46a3a3b3d08fddc11f24": {
     "model_module": "@jupyter-widgets/controls",
     "model_name": "FloatProgressModel",
     "model_module_version": "1.5.0",
     "state": {
      "_dom_classes": [],
      "_model_module": "@jupyter-widgets/controls",
      "_model_module_version": "1.5.0",
      "_model_name": "FloatProgressModel",
      "_view_count": null,
      "_view_module": "@jupyter-widgets/controls",
      "_view_module_version": "1.5.0",
      "_view_name": "ProgressView",
      "bar_style": "success",
      "description": "",
      "description_tooltip": null,
      "layout": "IPY_MODEL_ab6ef40fc7044f4b9fc75d342e952686",
      "max": 22684,
      "min": 0,
      "orientation": "horizontal",
      "style": "IPY_MODEL_d20f59817225426f868e1a75b193c71b",
      "value": 22684
     }
    },
    "00256ab507484e13b9877f335e8540de": {
     "model_module": "@jupyter-widgets/controls",
     "model_name": "HTMLModel",
     "model_module_version": "1.5.0",
     "state": {
      "_dom_classes": [],
      "_model_module": "@jupyter-widgets/controls",
      "_model_module_version": "1.5.0",
      "_model_name": "HTMLModel",
      "_view_count": null,
      "_view_module": "@jupyter-widgets/controls",
      "_view_module_version": "1.5.0",
      "_view_name": "HTMLView",
      "description": "",
      "description_tooltip": null,
      "layout": "IPY_MODEL_c2228a20a7e1410895b24d5150a0d197",
      "placeholder": "​",
      "style": "IPY_MODEL_09c4b7779af34c50b0349e4cd68e9128",
      "value": " 22684/22684 [00:05&lt;00:00, 4938.40it/s]"
     }
    },
    "4642d0f223494c42ad63da3b6846c83b": {
     "model_module": "@jupyter-widgets/base",
     "model_name": "LayoutModel",
     "model_module_version": "1.2.0",
     "state": {
      "_model_module": "@jupyter-widgets/base",
      "_model_module_version": "1.2.0",
      "_model_name": "LayoutModel",
      "_view_count": null,
      "_view_module": "@jupyter-widgets/base",
      "_view_module_version": "1.2.0",
      "_view_name": "LayoutView",
      "align_content": null,
      "align_items": null,
      "align_self": null,
      "border": null,
      "bottom": null,
      "display": null,
      "flex": null,
      "flex_flow": null,
      "grid_area": null,
      "grid_auto_columns": null,
      "grid_auto_flow": null,
      "grid_auto_rows": null,
      "grid_column": null,
      "grid_gap": null,
      "grid_row": null,
      "grid_template_areas": null,
      "grid_template_columns": null,
      "grid_template_rows": null,
      "height": null,
      "justify_content": null,
      "justify_items": null,
      "left": null,
      "margin": null,
      "max_height": null,
      "max_width": null,
      "min_height": null,
      "min_width": null,
      "object_fit": null,
      "object_position": null,
      "order": null,
      "overflow": null,
      "overflow_x": null,
      "overflow_y": null,
      "padding": null,
      "right": null,
      "top": null,
      "visibility": null,
      "width": null
     }
    },
    "67581106c5bc4c809de9adf44f8d7964": {
     "model_module": "@jupyter-widgets/base",
     "model_name": "LayoutModel",
     "model_module_version": "1.2.0",
     "state": {
      "_model_module": "@jupyter-widgets/base",
      "_model_module_version": "1.2.0",
      "_model_name": "LayoutModel",
      "_view_count": null,
      "_view_module": "@jupyter-widgets/base",
      "_view_module_version": "1.2.0",
      "_view_name": "LayoutView",
      "align_content": null,
      "align_items": null,
      "align_self": null,
      "border": null,
      "bottom": null,
      "display": null,
      "flex": null,
      "flex_flow": null,
      "grid_area": null,
      "grid_auto_columns": null,
      "grid_auto_flow": null,
      "grid_auto_rows": null,
      "grid_column": null,
      "grid_gap": null,
      "grid_row": null,
      "grid_template_areas": null,
      "grid_template_columns": null,
      "grid_template_rows": null,
      "height": null,
      "justify_content": null,
      "justify_items": null,
      "left": null,
      "margin": null,
      "max_height": null,
      "max_width": null,
      "min_height": null,
      "min_width": null,
      "object_fit": null,
      "object_position": null,
      "order": null,
      "overflow": null,
      "overflow_x": null,
      "overflow_y": null,
      "padding": null,
      "right": null,
      "top": null,
      "visibility": null,
      "width": null
     }
    },
    "3986eec03d07422ca8a03ef253155c4e": {
     "model_module": "@jupyter-widgets/controls",
     "model_name": "DescriptionStyleModel",
     "model_module_version": "1.5.0",
     "state": {
      "_model_module": "@jupyter-widgets/controls",
      "_model_module_version": "1.5.0",
      "_model_name": "DescriptionStyleModel",
      "_view_count": null,
      "_view_module": "@jupyter-widgets/base",
      "_view_module_version": "1.2.0",
      "_view_name": "StyleView",
      "description_width": ""
     }
    },
    "ab6ef40fc7044f4b9fc75d342e952686": {
     "model_module": "@jupyter-widgets/base",
     "model_name": "LayoutModel",
     "model_module_version": "1.2.0",
     "state": {
      "_model_module": "@jupyter-widgets/base",
      "_model_module_version": "1.2.0",
      "_model_name": "LayoutModel",
      "_view_count": null,
      "_view_module": "@jupyter-widgets/base",
      "_view_module_version": "1.2.0",
      "_view_name": "LayoutView",
      "align_content": null,
      "align_items": null,
      "align_self": null,
      "border": null,
      "bottom": null,
      "display": null,
      "flex": null,
      "flex_flow": null,
      "grid_area": null,
      "grid_auto_columns": null,
      "grid_auto_flow": null,
      "grid_auto_rows": null,
      "grid_column": null,
      "grid_gap": null,
      "grid_row": null,
      "grid_template_areas": null,
      "grid_template_columns": null,
      "grid_template_rows": null,
      "height": null,
      "justify_content": null,
      "justify_items": null,
      "left": null,
      "margin": null,
      "max_height": null,
      "max_width": null,
      "min_height": null,
      "min_width": null,
      "object_fit": null,
      "object_position": null,
      "order": null,
      "overflow": null,
      "overflow_x": null,
      "overflow_y": null,
      "padding": null,
      "right": null,
      "top": null,
      "visibility": null,
      "width": null
     }
    },
    "d20f59817225426f868e1a75b193c71b": {
     "model_module": "@jupyter-widgets/controls",
     "model_name": "ProgressStyleModel",
     "model_module_version": "1.5.0",
     "state": {
      "_model_module": "@jupyter-widgets/controls",
      "_model_module_version": "1.5.0",
      "_model_name": "ProgressStyleModel",
      "_view_count": null,
      "_view_module": "@jupyter-widgets/base",
      "_view_module_version": "1.2.0",
      "_view_name": "StyleView",
      "bar_color": null,
      "description_width": ""
     }
    },
    "c2228a20a7e1410895b24d5150a0d197": {
     "model_module": "@jupyter-widgets/base",
     "model_name": "LayoutModel",
     "model_module_version": "1.2.0",
     "state": {
      "_model_module": "@jupyter-widgets/base",
      "_model_module_version": "1.2.0",
      "_model_name": "LayoutModel",
      "_view_count": null,
      "_view_module": "@jupyter-widgets/base",
      "_view_module_version": "1.2.0",
      "_view_name": "LayoutView",
      "align_content": null,
      "align_items": null,
      "align_self": null,
      "border": null,
      "bottom": null,
      "display": null,
      "flex": null,
      "flex_flow": null,
      "grid_area": null,
      "grid_auto_columns": null,
      "grid_auto_flow": null,
      "grid_auto_rows": null,
      "grid_column": null,
      "grid_gap": null,
      "grid_row": null,
      "grid_template_areas": null,
      "grid_template_columns": null,
      "grid_template_rows": null,
      "height": null,
      "justify_content": null,
      "justify_items": null,
      "left": null,
      "margin": null,
      "max_height": null,
      "max_width": null,
      "min_height": null,
      "min_width": null,
      "object_fit": null,
      "object_position": null,
      "order": null,
      "overflow": null,
      "overflow_x": null,
      "overflow_y": null,
      "padding": null,
      "right": null,
      "top": null,
      "visibility": null,
      "width": null
     }
    },
    "09c4b7779af34c50b0349e4cd68e9128": {
     "model_module": "@jupyter-widgets/controls",
     "model_name": "DescriptionStyleModel",
     "model_module_version": "1.5.0",
     "state": {
      "_model_module": "@jupyter-widgets/controls",
      "_model_module_version": "1.5.0",
      "_model_name": "DescriptionStyleModel",
      "_view_count": null,
      "_view_module": "@jupyter-widgets/base",
      "_view_module_version": "1.2.0",
      "_view_name": "StyleView",
      "description_width": ""
     }
    },
    "bddcb088699c432198e2afe17fd7cb1b": {
     "model_module": "@jupyter-widgets/controls",
     "model_name": "HBoxModel",
     "model_module_version": "1.5.0",
     "state": {
      "_dom_classes": [],
      "_model_module": "@jupyter-widgets/controls",
      "_model_module_version": "1.5.0",
      "_model_name": "HBoxModel",
      "_view_count": null,
      "_view_module": "@jupyter-widgets/controls",
      "_view_module_version": "1.5.0",
      "_view_name": "HBoxView",
      "box_style": "",
      "children": [
       "IPY_MODEL_c3eb737949814a9c9ac37b8854c578d7",
       "IPY_MODEL_144d704c7bd6479ba2972269bca39eaa",
       "IPY_MODEL_36a2730bf9c7484cb571f9e9e9169ae7"
      ],
      "layout": "IPY_MODEL_149ded6ae5734522bacb95ac7f87324f"
     }
    },
    "c3eb737949814a9c9ac37b8854c578d7": {
     "model_module": "@jupyter-widgets/controls",
     "model_name": "HTMLModel",
     "model_module_version": "1.5.0",
     "state": {
      "_dom_classes": [],
      "_model_module": "@jupyter-widgets/controls",
      "_model_module_version": "1.5.0",
      "_model_name": "HTMLModel",
      "_view_count": null,
      "_view_module": "@jupyter-widgets/controls",
      "_view_module_version": "1.5.0",
      "_view_name": "HTMLView",
      "description": "",
      "description_tooltip": null,
      "layout": "IPY_MODEL_cabbf0b4ab0d4a1a8bd1b78165cdf6e3",
      "placeholder": "​",
      "style": "IPY_MODEL_f0fb761673d841899434de0424b0a464",
      "value": "100%"
     }
    },
    "144d704c7bd6479ba2972269bca39eaa": {
     "model_module": "@jupyter-widgets/controls",
     "model_name": "FloatProgressModel",
     "model_module_version": "1.5.0",
     "state": {
      "_dom_classes": [],
      "_model_module": "@jupyter-widgets/controls",
      "_model_module_version": "1.5.0",
      "_model_name": "FloatProgressModel",
      "_view_count": null,
      "_view_module": "@jupyter-widgets/controls",
      "_view_module_version": "1.5.0",
      "_view_name": "ProgressView",
      "bar_style": "success",
      "description": "",
      "description_tooltip": null,
      "layout": "IPY_MODEL_e1f27ec7c33d4d2ab513708eeaa69581",
      "max": 22683,
      "min": 0,
      "orientation": "horizontal",
      "style": "IPY_MODEL_e4139682c7904caf95065d5e5cf6596a",
      "value": 22683
     }
    },
    "36a2730bf9c7484cb571f9e9e9169ae7": {
     "model_module": "@jupyter-widgets/controls",
     "model_name": "HTMLModel",
     "model_module_version": "1.5.0",
     "state": {
      "_dom_classes": [],
      "_model_module": "@jupyter-widgets/controls",
      "_model_module_version": "1.5.0",
      "_model_name": "HTMLModel",
      "_view_count": null,
      "_view_module": "@jupyter-widgets/controls",
      "_view_module_version": "1.5.0",
      "_view_name": "HTMLView",
      "description": "",
      "description_tooltip": null,
      "layout": "IPY_MODEL_378d4d2530994383a0b0d81e392b2faa",
      "placeholder": "​",
      "style": "IPY_MODEL_d082312c1e864cd9b928631c932c069d",
      "value": " 22683/22683 [00:04&lt;00:00, 4912.73it/s]"
     }
    },
    "149ded6ae5734522bacb95ac7f87324f": {
     "model_module": "@jupyter-widgets/base",
     "model_name": "LayoutModel",
     "model_module_version": "1.2.0",
     "state": {
      "_model_module": "@jupyter-widgets/base",
      "_model_module_version": "1.2.0",
      "_model_name": "LayoutModel",
      "_view_count": null,
      "_view_module": "@jupyter-widgets/base",
      "_view_module_version": "1.2.0",
      "_view_name": "LayoutView",
      "align_content": null,
      "align_items": null,
      "align_self": null,
      "border": null,
      "bottom": null,
      "display": null,
      "flex": null,
      "flex_flow": null,
      "grid_area": null,
      "grid_auto_columns": null,
      "grid_auto_flow": null,
      "grid_auto_rows": null,
      "grid_column": null,
      "grid_gap": null,
      "grid_row": null,
      "grid_template_areas": null,
      "grid_template_columns": null,
      "grid_template_rows": null,
      "height": null,
      "justify_content": null,
      "justify_items": null,
      "left": null,
      "margin": null,
      "max_height": null,
      "max_width": null,
      "min_height": null,
      "min_width": null,
      "object_fit": null,
      "object_position": null,
      "order": null,
      "overflow": null,
      "overflow_x": null,
      "overflow_y": null,
      "padding": null,
      "right": null,
      "top": null,
      "visibility": null,
      "width": null
     }
    },
    "cabbf0b4ab0d4a1a8bd1b78165cdf6e3": {
     "model_module": "@jupyter-widgets/base",
     "model_name": "LayoutModel",
     "model_module_version": "1.2.0",
     "state": {
      "_model_module": "@jupyter-widgets/base",
      "_model_module_version": "1.2.0",
      "_model_name": "LayoutModel",
      "_view_count": null,
      "_view_module": "@jupyter-widgets/base",
      "_view_module_version": "1.2.0",
      "_view_name": "LayoutView",
      "align_content": null,
      "align_items": null,
      "align_self": null,
      "border": null,
      "bottom": null,
      "display": null,
      "flex": null,
      "flex_flow": null,
      "grid_area": null,
      "grid_auto_columns": null,
      "grid_auto_flow": null,
      "grid_auto_rows": null,
      "grid_column": null,
      "grid_gap": null,
      "grid_row": null,
      "grid_template_areas": null,
      "grid_template_columns": null,
      "grid_template_rows": null,
      "height": null,
      "justify_content": null,
      "justify_items": null,
      "left": null,
      "margin": null,
      "max_height": null,
      "max_width": null,
      "min_height": null,
      "min_width": null,
      "object_fit": null,
      "object_position": null,
      "order": null,
      "overflow": null,
      "overflow_x": null,
      "overflow_y": null,
      "padding": null,
      "right": null,
      "top": null,
      "visibility": null,
      "width": null
     }
    },
    "f0fb761673d841899434de0424b0a464": {
     "model_module": "@jupyter-widgets/controls",
     "model_name": "DescriptionStyleModel",
     "model_module_version": "1.5.0",
     "state": {
      "_model_module": "@jupyter-widgets/controls",
      "_model_module_version": "1.5.0",
      "_model_name": "DescriptionStyleModel",
      "_view_count": null,
      "_view_module": "@jupyter-widgets/base",
      "_view_module_version": "1.2.0",
      "_view_name": "StyleView",
      "description_width": ""
     }
    },
    "e1f27ec7c33d4d2ab513708eeaa69581": {
     "model_module": "@jupyter-widgets/base",
     "model_name": "LayoutModel",
     "model_module_version": "1.2.0",
     "state": {
      "_model_module": "@jupyter-widgets/base",
      "_model_module_version": "1.2.0",
      "_model_name": "LayoutModel",
      "_view_count": null,
      "_view_module": "@jupyter-widgets/base",
      "_view_module_version": "1.2.0",
      "_view_name": "LayoutView",
      "align_content": null,
      "align_items": null,
      "align_self": null,
      "border": null,
      "bottom": null,
      "display": null,
      "flex": null,
      "flex_flow": null,
      "grid_area": null,
      "grid_auto_columns": null,
      "grid_auto_flow": null,
      "grid_auto_rows": null,
      "grid_column": null,
      "grid_gap": null,
      "grid_row": null,
      "grid_template_areas": null,
      "grid_template_columns": null,
      "grid_template_rows": null,
      "height": null,
      "justify_content": null,
      "justify_items": null,
      "left": null,
      "margin": null,
      "max_height": null,
      "max_width": null,
      "min_height": null,
      "min_width": null,
      "object_fit": null,
      "object_position": null,
      "order": null,
      "overflow": null,
      "overflow_x": null,
      "overflow_y": null,
      "padding": null,
      "right": null,
      "top": null,
      "visibility": null,
      "width": null
     }
    },
    "e4139682c7904caf95065d5e5cf6596a": {
     "model_module": "@jupyter-widgets/controls",
     "model_name": "ProgressStyleModel",
     "model_module_version": "1.5.0",
     "state": {
      "_model_module": "@jupyter-widgets/controls",
      "_model_module_version": "1.5.0",
      "_model_name": "ProgressStyleModel",
      "_view_count": null,
      "_view_module": "@jupyter-widgets/base",
      "_view_module_version": "1.2.0",
      "_view_name": "StyleView",
      "bar_color": null,
      "description_width": ""
     }
    },
    "378d4d2530994383a0b0d81e392b2faa": {
     "model_module": "@jupyter-widgets/base",
     "model_name": "LayoutModel",
     "model_module_version": "1.2.0",
     "state": {
      "_model_module": "@jupyter-widgets/base",
      "_model_module_version": "1.2.0",
      "_model_name": "LayoutModel",
      "_view_count": null,
      "_view_module": "@jupyter-widgets/base",
      "_view_module_version": "1.2.0",
      "_view_name": "LayoutView",
      "align_content": null,
      "align_items": null,
      "align_self": null,
      "border": null,
      "bottom": null,
      "display": null,
      "flex": null,
      "flex_flow": null,
      "grid_area": null,
      "grid_auto_columns": null,
      "grid_auto_flow": null,
      "grid_auto_rows": null,
      "grid_column": null,
      "grid_gap": null,
      "grid_row": null,
      "grid_template_areas": null,
      "grid_template_columns": null,
      "grid_template_rows": null,
      "height": null,
      "justify_content": null,
      "justify_items": null,
      "left": null,
      "margin": null,
      "max_height": null,
      "max_width": null,
      "min_height": null,
      "min_width": null,
      "object_fit": null,
      "object_position": null,
      "order": null,
      "overflow": null,
      "overflow_x": null,
      "overflow_y": null,
      "padding": null,
      "right": null,
      "top": null,
      "visibility": null,
      "width": null
     }
    },
    "d082312c1e864cd9b928631c932c069d": {
     "model_module": "@jupyter-widgets/controls",
     "model_name": "DescriptionStyleModel",
     "model_module_version": "1.5.0",
     "state": {
      "_model_module": "@jupyter-widgets/controls",
      "_model_module_version": "1.5.0",
      "_model_name": "DescriptionStyleModel",
      "_view_count": null,
      "_view_module": "@jupyter-widgets/base",
      "_view_module_version": "1.2.0",
      "_view_name": "StyleView",
      "description_width": ""
     }
    },
    "06374f8536624f498f9401d3b9cfe8ec": {
     "model_module": "@jupyter-widgets/controls",
     "model_name": "HBoxModel",
     "model_module_version": "1.5.0",
     "state": {
      "_dom_classes": [],
      "_model_module": "@jupyter-widgets/controls",
      "_model_module_version": "1.5.0",
      "_model_name": "HBoxModel",
      "_view_count": null,
      "_view_module": "@jupyter-widgets/controls",
      "_view_module_version": "1.5.0",
      "_view_name": "HBoxView",
      "box_style": "",
      "children": [
       "IPY_MODEL_7f942b23449b4f14aa811687ca130f84",
       "IPY_MODEL_40209be88d764d4ab8241435e38ab903",
       "IPY_MODEL_02f1a4e33b3042b99935775734a98da1"
      ],
      "layout": "IPY_MODEL_a7ff5ef0e56544d693a73bfb234f6d4f"
     }
    },
    "7f942b23449b4f14aa811687ca130f84": {
     "model_module": "@jupyter-widgets/controls",
     "model_name": "HTMLModel",
     "model_module_version": "1.5.0",
     "state": {
      "_dom_classes": [],
      "_model_module": "@jupyter-widgets/controls",
      "_model_module_version": "1.5.0",
      "_model_name": "HTMLModel",
      "_view_count": null,
      "_view_module": "@jupyter-widgets/controls",
      "_view_module_version": "1.5.0",
      "_view_name": "HTMLView",
      "description": "",
      "description_tooltip": null,
      "layout": "IPY_MODEL_181cfb4651a947b0bfd2aa534479910a",
      "placeholder": "​",
      "style": "IPY_MODEL_f38e9d6ea83441959390c1745c08a9d2",
      "value": "100%"
     }
    },
    "40209be88d764d4ab8241435e38ab903": {
     "model_module": "@jupyter-widgets/controls",
     "model_name": "FloatProgressModel",
     "model_module_version": "1.5.0",
     "state": {
      "_dom_classes": [],
      "_model_module": "@jupyter-widgets/controls",
      "_model_module_version": "1.5.0",
      "_model_name": "FloatProgressModel",
      "_view_count": null,
      "_view_module": "@jupyter-widgets/controls",
      "_view_module_version": "1.5.0",
      "_view_name": "ProgressView",
      "bar_style": "success",
      "description": "",
      "description_tooltip": null,
      "layout": "IPY_MODEL_dcc6c031227941f899d9b85beeea50aa",
      "max": 181467,
      "min": 0,
      "orientation": "horizontal",
      "style": "IPY_MODEL_2788dd243ddd4d0c9d502f91f8f4af3e",
      "value": 181467
     }
    },
    "02f1a4e33b3042b99935775734a98da1": {
     "model_module": "@jupyter-widgets/controls",
     "model_name": "HTMLModel",
     "model_module_version": "1.5.0",
     "state": {
      "_dom_classes": [],
      "_model_module": "@jupyter-widgets/controls",
      "_model_module_version": "1.5.0",
      "_model_name": "HTMLModel",
      "_view_count": null,
      "_view_module": "@jupyter-widgets/controls",
      "_view_module_version": "1.5.0",
      "_view_name": "HTMLView",
      "description": "",
      "description_tooltip": null,
      "layout": "IPY_MODEL_13183c92455742a39462ab35fd0d87af",
      "placeholder": "​",
      "style": "IPY_MODEL_36b56eb2c42243069800088b851f5f3a",
      "value": " 181467/181467 [00:37&lt;00:00, 5936.61it/s]"
     }
    },
    "a7ff5ef0e56544d693a73bfb234f6d4f": {
     "model_module": "@jupyter-widgets/base",
     "model_name": "LayoutModel",
     "model_module_version": "1.2.0",
     "state": {
      "_model_module": "@jupyter-widgets/base",
      "_model_module_version": "1.2.0",
      "_model_name": "LayoutModel",
      "_view_count": null,
      "_view_module": "@jupyter-widgets/base",
      "_view_module_version": "1.2.0",
      "_view_name": "LayoutView",
      "align_content": null,
      "align_items": null,
      "align_self": null,
      "border": null,
      "bottom": null,
      "display": null,
      "flex": null,
      "flex_flow": null,
      "grid_area": null,
      "grid_auto_columns": null,
      "grid_auto_flow": null,
      "grid_auto_rows": null,
      "grid_column": null,
      "grid_gap": null,
      "grid_row": null,
      "grid_template_areas": null,
      "grid_template_columns": null,
      "grid_template_rows": null,
      "height": null,
      "justify_content": null,
      "justify_items": null,
      "left": null,
      "margin": null,
      "max_height": null,
      "max_width": null,
      "min_height": null,
      "min_width": null,
      "object_fit": null,
      "object_position": null,
      "order": null,
      "overflow": null,
      "overflow_x": null,
      "overflow_y": null,
      "padding": null,
      "right": null,
      "top": null,
      "visibility": null,
      "width": null
     }
    },
    "181cfb4651a947b0bfd2aa534479910a": {
     "model_module": "@jupyter-widgets/base",
     "model_name": "LayoutModel",
     "model_module_version": "1.2.0",
     "state": {
      "_model_module": "@jupyter-widgets/base",
      "_model_module_version": "1.2.0",
      "_model_name": "LayoutModel",
      "_view_count": null,
      "_view_module": "@jupyter-widgets/base",
      "_view_module_version": "1.2.0",
      "_view_name": "LayoutView",
      "align_content": null,
      "align_items": null,
      "align_self": null,
      "border": null,
      "bottom": null,
      "display": null,
      "flex": null,
      "flex_flow": null,
      "grid_area": null,
      "grid_auto_columns": null,
      "grid_auto_flow": null,
      "grid_auto_rows": null,
      "grid_column": null,
      "grid_gap": null,
      "grid_row": null,
      "grid_template_areas": null,
      "grid_template_columns": null,
      "grid_template_rows": null,
      "height": null,
      "justify_content": null,
      "justify_items": null,
      "left": null,
      "margin": null,
      "max_height": null,
      "max_width": null,
      "min_height": null,
      "min_width": null,
      "object_fit": null,
      "object_position": null,
      "order": null,
      "overflow": null,
      "overflow_x": null,
      "overflow_y": null,
      "padding": null,
      "right": null,
      "top": null,
      "visibility": null,
      "width": null
     }
    },
    "f38e9d6ea83441959390c1745c08a9d2": {
     "model_module": "@jupyter-widgets/controls",
     "model_name": "DescriptionStyleModel",
     "model_module_version": "1.5.0",
     "state": {
      "_model_module": "@jupyter-widgets/controls",
      "_model_module_version": "1.5.0",
      "_model_name": "DescriptionStyleModel",
      "_view_count": null,
      "_view_module": "@jupyter-widgets/base",
      "_view_module_version": "1.2.0",
      "_view_name": "StyleView",
      "description_width": ""
     }
    },
    "dcc6c031227941f899d9b85beeea50aa": {
     "model_module": "@jupyter-widgets/base",
     "model_name": "LayoutModel",
     "model_module_version": "1.2.0",
     "state": {
      "_model_module": "@jupyter-widgets/base",
      "_model_module_version": "1.2.0",
      "_model_name": "LayoutModel",
      "_view_count": null,
      "_view_module": "@jupyter-widgets/base",
      "_view_module_version": "1.2.0",
      "_view_name": "LayoutView",
      "align_content": null,
      "align_items": null,
      "align_self": null,
      "border": null,
      "bottom": null,
      "display": null,
      "flex": null,
      "flex_flow": null,
      "grid_area": null,
      "grid_auto_columns": null,
      "grid_auto_flow": null,
      "grid_auto_rows": null,
      "grid_column": null,
      "grid_gap": null,
      "grid_row": null,
      "grid_template_areas": null,
      "grid_template_columns": null,
      "grid_template_rows": null,
      "height": null,
      "justify_content": null,
      "justify_items": null,
      "left": null,
      "margin": null,
      "max_height": null,
      "max_width": null,
      "min_height": null,
      "min_width": null,
      "object_fit": null,
      "object_position": null,
      "order": null,
      "overflow": null,
      "overflow_x": null,
      "overflow_y": null,
      "padding": null,
      "right": null,
      "top": null,
      "visibility": null,
      "width": null
     }
    },
    "2788dd243ddd4d0c9d502f91f8f4af3e": {
     "model_module": "@jupyter-widgets/controls",
     "model_name": "ProgressStyleModel",
     "model_module_version": "1.5.0",
     "state": {
      "_model_module": "@jupyter-widgets/controls",
      "_model_module_version": "1.5.0",
      "_model_name": "ProgressStyleModel",
      "_view_count": null,
      "_view_module": "@jupyter-widgets/base",
      "_view_module_version": "1.2.0",
      "_view_name": "StyleView",
      "bar_color": null,
      "description_width": ""
     }
    },
    "13183c92455742a39462ab35fd0d87af": {
     "model_module": "@jupyter-widgets/base",
     "model_name": "LayoutModel",
     "model_module_version": "1.2.0",
     "state": {
      "_model_module": "@jupyter-widgets/base",
      "_model_module_version": "1.2.0",
      "_model_name": "LayoutModel",
      "_view_count": null,
      "_view_module": "@jupyter-widgets/base",
      "_view_module_version": "1.2.0",
      "_view_name": "LayoutView",
      "align_content": null,
      "align_items": null,
      "align_self": null,
      "border": null,
      "bottom": null,
      "display": null,
      "flex": null,
      "flex_flow": null,
      "grid_area": null,
      "grid_auto_columns": null,
      "grid_auto_flow": null,
      "grid_auto_rows": null,
      "grid_column": null,
      "grid_gap": null,
      "grid_row": null,
      "grid_template_areas": null,
      "grid_template_columns": null,
      "grid_template_rows": null,
      "height": null,
      "justify_content": null,
      "justify_items": null,
      "left": null,
      "margin": null,
      "max_height": null,
      "max_width": null,
      "min_height": null,
      "min_width": null,
      "object_fit": null,
      "object_position": null,
      "order": null,
      "overflow": null,
      "overflow_x": null,
      "overflow_y": null,
      "padding": null,
      "right": null,
      "top": null,
      "visibility": null,
      "width": null
     }
    },
    "36b56eb2c42243069800088b851f5f3a": {
     "model_module": "@jupyter-widgets/controls",
     "model_name": "DescriptionStyleModel",
     "model_module_version": "1.5.0",
     "state": {
      "_model_module": "@jupyter-widgets/controls",
      "_model_module_version": "1.5.0",
      "_model_name": "DescriptionStyleModel",
      "_view_count": null,
      "_view_module": "@jupyter-widgets/base",
      "_view_module_version": "1.2.0",
      "_view_name": "StyleView",
      "description_width": ""
     }
    }
   }
  },
  "accelerator": "GPU"
 },
 "nbformat": 4,
 "nbformat_minor": 0
}
