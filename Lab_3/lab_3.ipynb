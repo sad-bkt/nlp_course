{
 "cells": [
  {
   "cell_type": "code",
   "execution_count": null,
   "metadata": {
    "id": "idJUdyE2y1f2"
   },
   "outputs": [],
   "source": [
    "import pandas as pd\n",
    "import numpy as np\n",
    "import spacy\n",
    "from sklearn.model_selection import train_test_split\n",
    "from gensim.models import FastText\n",
    "from sklearn.linear_model import LogisticRegression\n",
    "from scipy.spatial.distance import cosine\n",
    "from sklearn.metrics import classification_report\n",
    "import warnings\n",
    "import gensim.models\n",
    "\n",
    "warnings.simplefilter(action='ignore', category=FutureWarning)"
   ]
  },
  {
   "cell_type": "code",
   "execution_count": null,
   "metadata": {
    "id": "8OxNS_SSyp14"
   },
   "outputs": [],
   "source": [
    "!python -m spacy download en_core_web_sm"
   ]
  },
  {
   "attachments": {},
   "cell_type": "markdown",
   "metadata": {
    "id": "mSjL2MOmydAc"
   },
   "source": [
    "# Получение данных\n",
    "[\n",
    "Spam or Not Spam Dataset](https://www.kaggle.com/datasets/ozlerhakan/spam-or-not-spam-dataset/)"
   ]
  },
  {
   "cell_type": "code",
   "execution_count": null,
   "metadata": {
    "colab": {
     "base_uri": "https://localhost:8080/",
     "height": 206
    },
    "id": "YEg_mkgJvvpt",
    "outputId": "6f355bc8-6e7c-403b-bcc3-aa799afa744d",
    "ExecuteTime": {
     "end_time": "2023-10-21T20:02:40.028469300Z",
     "start_time": "2023-10-21T20:02:39.896567500Z"
    }
   },
   "outputs": [
    {
     "data": {
      "text/plain": "                                               email  label\n0   date wed NUMBER aug NUMBER NUMBER NUMBER NUMB...      0\n1  martin a posted tassos papadopoulos the greek ...      0\n2  man threatens explosion in moscow thursday aug...      0\n3  klez the virus that won t die already the most...      0\n4   in adding cream to spaghetti carbonara which ...      0",
      "text/html": "<div>\n<style scoped>\n    .dataframe tbody tr th:only-of-type {\n        vertical-align: middle;\n    }\n\n    .dataframe tbody tr th {\n        vertical-align: top;\n    }\n\n    .dataframe thead th {\n        text-align: right;\n    }\n</style>\n<table border=\"1\" class=\"dataframe\">\n  <thead>\n    <tr style=\"text-align: right;\">\n      <th></th>\n      <th>email</th>\n      <th>label</th>\n    </tr>\n  </thead>\n  <tbody>\n    <tr>\n      <th>0</th>\n      <td>date wed NUMBER aug NUMBER NUMBER NUMBER NUMB...</td>\n      <td>0</td>\n    </tr>\n    <tr>\n      <th>1</th>\n      <td>martin a posted tassos papadopoulos the greek ...</td>\n      <td>0</td>\n    </tr>\n    <tr>\n      <th>2</th>\n      <td>man threatens explosion in moscow thursday aug...</td>\n      <td>0</td>\n    </tr>\n    <tr>\n      <th>3</th>\n      <td>klez the virus that won t die already the most...</td>\n      <td>0</td>\n    </tr>\n    <tr>\n      <th>4</th>\n      <td>in adding cream to spaghetti carbonara which ...</td>\n      <td>0</td>\n    </tr>\n  </tbody>\n</table>\n</div>"
     },
     "execution_count": 3,
     "metadata": {},
     "output_type": "execute_result"
    }
   ],
   "source": [
    "data = pd.read_csv('spam_or_not_spam.csv')\n",
    "data = data.astype({'email':'string'})\n",
    "data.head()"
   ]
  },
  {
   "cell_type": "code",
   "execution_count": null,
   "metadata": {
    "ExecuteTime": {
     "end_time": "2023-10-21T20:02:40.050186300Z",
     "start_time": "2023-10-21T20:02:40.028469300Z"
    }
   },
   "outputs": [
    {
     "name": "stdout",
     "output_type": "stream",
     "text": [
      "<class 'pandas.core.frame.DataFrame'>\n",
      "Index: 2999 entries, 0 to 2999\n",
      "Data columns (total 2 columns):\n",
      " #   Column  Non-Null Count  Dtype \n",
      "---  ------  --------------  ----- \n",
      " 0   email   2999 non-null   string\n",
      " 1   label   2999 non-null   int64 \n",
      "dtypes: int64(1), string(1)\n",
      "memory usage: 70.3 KB\n"
     ]
    }
   ],
   "source": [
    "data.dropna(inplace=True)\n",
    "data.info()"
   ]
  },
  {
   "cell_type": "code",
   "execution_count": null,
   "metadata": {
    "colab": {
     "base_uri": "https://localhost:8080/"
    },
    "id": "ze-HO-tLvyPN",
    "outputId": "afa04cc4-b7dd-4908-c709-ea904f378cfc",
    "ExecuteTime": {
     "end_time": "2023-10-21T20:02:40.138877500Z",
     "start_time": "2023-10-21T20:02:40.038319900Z"
    }
   },
   "outputs": [
    {
     "data": {
      "text/plain": "label\n0    2500\n1     499\nName: count, dtype: int64"
     },
     "execution_count": 5,
     "metadata": {},
     "output_type": "execute_result"
    }
   ],
   "source": [
    "data['label'].value_counts()"
   ]
  },
  {
   "attachments": {},
   "cell_type": "markdown",
   "metadata": {
    "id": "IEHyPWhH3y5A"
   },
   "source": [
    "# Очистка"
   ]
  },
  {
   "attachments": {},
   "cell_type": "markdown",
   "metadata": {
    "id": "9focrcgE1uQC"
   },
   "source": [
    "Стоп-слова для английского языка в spaCy"
   ]
  },
  {
   "cell_type": "code",
   "execution_count": null,
   "metadata": {
    "colab": {
     "base_uri": "https://localhost:8080/",
     "height": 157
    },
    "id": "VTUQARMYx1fS",
    "outputId": "31d9f337-4767-42ff-e458-cd1af63092a4",
    "ExecuteTime": {
     "end_time": "2023-10-21T20:02:41.289948800Z",
     "start_time": "2023-10-21T20:02:40.067164700Z"
    }
   },
   "outputs": [
    {
     "name": "stdout",
     "output_type": "stream",
     "text": [
      "Spacy english stopwords size: 326\n",
      "\n"
     ]
    },
    {
     "data": {
      "text/plain": "\"always show elsewhere get if beside otherwise such your whatever more been ‘d whole ’ll almost others becoming this every him may there beforehand next should six out thru yours somewhere 're 've least nothing the somehow until just 'd he two above go n‘t afterwards off them perhaps were else became she either too here hence nine anything our not former upon yet many four whenever seemed empty across sometime for each everyone have bottom might of via we her really ‘re everywhere toward well beyond once hereafter ’ve around as nevertheless see most than is behind anywhere whereby ten except hundred fifteen much you whoever keep neither thereby few back whither onto rather has again nor per top although can part who ca along both when among noone his whence further only amongst latter everything before does hereby third another ‘s someone anyone whereafter nobody at what throughout unless full itself take also ’d since do fifty various had or which none ‘m any how please below me first meanwhile ever therefore something whom must yourselves n’t ours give put why against between enough thereupon then n't name now thence myself those twenty was less herself be seeming make it down besides 'm wherein they still therein ‘ve eleven re over did formerly due amount am on ourselves without from wherever never under thereafter i himself about even moreover using serious after that used mostly my hers towards into together nowhere twelve while often anyhow three very whether could ’re its become hereupon herein where during latterly to through by indeed front 's say will same namely ’s one in whose several other however no us themselves a ‘ll whereupon becomes all quite though whereas alone yourself these forty doing seems own eight with sixty mine up call because last ’m sometimes and five move but anyway within would side cannot being regarding some an already made done thus seem 'll so are their\""
     },
     "execution_count": 6,
     "metadata": {},
     "output_type": "execute_result"
    }
   ],
   "source": [
    "nlp = spacy.load(\"en_core_web_sm\")\n",
    "stopwords = nlp.Defaults.stop_words\n",
    "print(f'Spacy english stopwords size: {len(stopwords)}', end='\\n\\n')\n",
    "' '.join(stopwords)"
   ]
  },
  {
   "attachments": {},
   "cell_type": "markdown",
   "metadata": {
    "id": "6q38y87s1z0Z"
   },
   "source": [
    "Атрибуты [Token](https://spacy.io/api/token#attributes)"
   ]
  },
  {
   "cell_type": "code",
   "execution_count": null,
   "metadata": {
    "colab": {
     "base_uri": "https://localhost:8080/",
     "height": 241
    },
    "id": "jbJXNs0x0ugi",
    "outputId": "3ca5faa4-0e7d-42f7-8377-a583f4cef1a0",
    "ExecuteTime": {
     "end_time": "2023-10-21T20:04:39.340813100Z",
     "start_time": "2023-10-21T20:02:41.243784200Z"
    }
   },
   "outputs": [
    {
     "name": "stdout",
     "output_type": "stream",
     "text": [
      "CPU times: total: 1min 57s\n",
      "Wall time: 1min 58s\n"
     ]
    },
    {
     "data": {
      "text/plain": "                                               email  label  \\\n0   date wed NUMBER aug NUMBER NUMBER NUMBER NUMB...      0   \n1  martin a posted tassos papadopoulos the greek ...      0   \n2  man threatens explosion in moscow thursday aug...      0   \n3  klez the virus that won t die already the most...      0   \n4   in adding cream to spaghetti carbonara which ...      0   \n\n                                        cleaned_text  \n0  [date, d, number, aug, number, number, number,...  \n1  [martin, post, tassos, papadopoulo, greek, scu...  \n2  [man, threaten, explosion, moscow, thursday, a...  \n3  [klez, virus, win, t, die, prolific, virus, kl...  \n4  [add, cream, spaghetti, carbonara, effect, pas...  ",
      "text/html": "<div>\n<style scoped>\n    .dataframe tbody tr th:only-of-type {\n        vertical-align: middle;\n    }\n\n    .dataframe tbody tr th {\n        vertical-align: top;\n    }\n\n    .dataframe thead th {\n        text-align: right;\n    }\n</style>\n<table border=\"1\" class=\"dataframe\">\n  <thead>\n    <tr style=\"text-align: right;\">\n      <th></th>\n      <th>email</th>\n      <th>label</th>\n      <th>cleaned_text</th>\n    </tr>\n  </thead>\n  <tbody>\n    <tr>\n      <th>0</th>\n      <td>date wed NUMBER aug NUMBER NUMBER NUMBER NUMB...</td>\n      <td>0</td>\n      <td>[date, d, number, aug, number, number, number,...</td>\n    </tr>\n    <tr>\n      <th>1</th>\n      <td>martin a posted tassos papadopoulos the greek ...</td>\n      <td>0</td>\n      <td>[martin, post, tassos, papadopoulo, greek, scu...</td>\n    </tr>\n    <tr>\n      <th>2</th>\n      <td>man threatens explosion in moscow thursday aug...</td>\n      <td>0</td>\n      <td>[man, threaten, explosion, moscow, thursday, a...</td>\n    </tr>\n    <tr>\n      <th>3</th>\n      <td>klez the virus that won t die already the most...</td>\n      <td>0</td>\n      <td>[klez, virus, win, t, die, prolific, virus, kl...</td>\n    </tr>\n    <tr>\n      <th>4</th>\n      <td>in adding cream to spaghetti carbonara which ...</td>\n      <td>0</td>\n      <td>[add, cream, spaghetti, carbonara, effect, pas...</td>\n    </tr>\n  </tbody>\n</table>\n</div>"
     },
     "execution_count": 7,
     "metadata": {},
     "output_type": "execute_result"
    }
   ],
   "source": [
    "%%time\n",
    "\n",
    "data['cleaned_text'] = data['email'].apply(\n",
    "    lambda x: [\n",
    "        token.lemma_.lower() for token in nlp(x) if\n",
    "        not token.is_stop\n",
    "        and not token.is_punct\n",
    "        and not token.is_digit\n",
    "        and not token.like_email\n",
    "        and not token.like_num\n",
    "        and not token.is_space\n",
    "    ]\n",
    ")\n",
    "data.head()"
   ]
  },
  {
   "cell_type": "markdown",
   "source": [
    "# Векторизация: Word2Vec CBOW"
   ],
   "metadata": {
    "collapsed": false
   }
  },
  {
   "cell_type": "code",
   "execution_count": null,
   "metadata": {
    "id": "2saSvMSF-3CL",
    "ExecuteTime": {
     "end_time": "2023-10-21T20:04:39.398296500Z",
     "start_time": "2023-10-21T20:04:39.344779800Z"
    }
   },
   "outputs": [],
   "source": [
    "X_train, X_test, y_train, y_test = train_test_split(data['cleaned_text'], data['label'], random_state=2023)"
   ]
  },
  {
   "cell_type": "code",
   "execution_count": 23,
   "outputs": [
    {
     "name": "stdout",
     "output_type": "stream",
     "text": [
      "CPU times: total: 1min 7s\n",
      "Wall time: 24.4 s\n"
     ]
    }
   ],
   "source": [
    "%%time\n",
    "VECTOR_SIZE = 256\n",
    "model = gensim.models.Word2Vec(\n",
    "    sentences=X_train,\n",
    "    vector_size=VECTOR_SIZE, # default = 100\n",
    "    window=7, # default = 5\n",
    "    min_count=10,\n",
    "    sg=1, # Training algorithm: 1 for skip-gram; otherwise CBOW\n",
    "    hs=0, #  If 1, hierarchical softmax will be used for model training. If 0, and negative is non-zero, negative sampling will be used.\n",
    "    negative=5, # If > 0, negative sampling will be used, if set to 0, no negative sampling is used.\n",
    "    epochs=25, # Number of iterations (epochs) over the corpus\n",
    "    seed=2023,\n",
    ")"
   ],
   "metadata": {
    "collapsed": false,
    "ExecuteTime": {
     "end_time": "2023-10-21T20:07:35.360436500Z",
     "start_time": "2023-10-21T20:07:10.994391500Z"
    }
   }
  },
  {
   "cell_type": "markdown",
   "source": [
    "Intrinsic оценка качества эмбеддингов"
   ],
   "metadata": {
    "collapsed": false
   }
  },
  {
   "cell_type": "code",
   "execution_count": null,
   "outputs": [
    {
     "ename": "KeyError",
     "evalue": "\"Key 'please' not present in vocabulary\"",
     "output_type": "error",
     "traceback": [
      "\u001B[1;31m---------------------------------------------------------------------------\u001B[0m",
      "\u001B[1;31mKeyError\u001B[0m                                  Traceback (most recent call last)",
      "Cell \u001B[1;32mIn[10], line 1\u001B[0m\n\u001B[1;32m----> 1\u001B[0m \u001B[43mmodel\u001B[49m\u001B[38;5;241;43m.\u001B[39;49m\u001B[43mwv\u001B[49m\u001B[38;5;241;43m.\u001B[39;49m\u001B[43mmost_similar\u001B[49m\u001B[43m(\u001B[49m\u001B[43m[\u001B[49m\u001B[38;5;124;43m'\u001B[39;49m\u001B[38;5;124;43mplease\u001B[39;49m\u001B[38;5;124;43m'\u001B[39;49m\u001B[43m]\u001B[49m\u001B[43m)\u001B[49m\n",
      "File \u001B[1;32m~\\PycharmProjects\\nlp_course\\venv\\lib\\site-packages\\gensim\\models\\keyedvectors.py:841\u001B[0m, in \u001B[0;36mKeyedVectors.most_similar\u001B[1;34m(self, positive, negative, topn, clip_start, clip_end, restrict_vocab, indexer)\u001B[0m\n\u001B[0;32m    838\u001B[0m         weight[idx] \u001B[38;5;241m=\u001B[39m item[\u001B[38;5;241m1\u001B[39m]\n\u001B[0;32m    840\u001B[0m \u001B[38;5;66;03m# compute the weighted average of all keys\u001B[39;00m\n\u001B[1;32m--> 841\u001B[0m mean \u001B[38;5;241m=\u001B[39m \u001B[38;5;28;43mself\u001B[39;49m\u001B[38;5;241;43m.\u001B[39;49m\u001B[43mget_mean_vector\u001B[49m\u001B[43m(\u001B[49m\u001B[43mkeys\u001B[49m\u001B[43m,\u001B[49m\u001B[43m \u001B[49m\u001B[43mweight\u001B[49m\u001B[43m,\u001B[49m\u001B[43m \u001B[49m\u001B[43mpre_normalize\u001B[49m\u001B[38;5;241;43m=\u001B[39;49m\u001B[38;5;28;43;01mTrue\u001B[39;49;00m\u001B[43m,\u001B[49m\u001B[43m \u001B[49m\u001B[43mpost_normalize\u001B[49m\u001B[38;5;241;43m=\u001B[39;49m\u001B[38;5;28;43;01mTrue\u001B[39;49;00m\u001B[43m,\u001B[49m\u001B[43m \u001B[49m\u001B[43mignore_missing\u001B[49m\u001B[38;5;241;43m=\u001B[39;49m\u001B[38;5;28;43;01mFalse\u001B[39;49;00m\u001B[43m)\u001B[49m\n\u001B[0;32m    842\u001B[0m all_keys \u001B[38;5;241m=\u001B[39m [\n\u001B[0;32m    843\u001B[0m     \u001B[38;5;28mself\u001B[39m\u001B[38;5;241m.\u001B[39mget_index(key) \u001B[38;5;28;01mfor\u001B[39;00m key \u001B[38;5;129;01min\u001B[39;00m keys \u001B[38;5;28;01mif\u001B[39;00m \u001B[38;5;28misinstance\u001B[39m(key, _KEY_TYPES) \u001B[38;5;129;01mand\u001B[39;00m \u001B[38;5;28mself\u001B[39m\u001B[38;5;241m.\u001B[39mhas_index_for(key)\n\u001B[0;32m    844\u001B[0m ]\n\u001B[0;32m    846\u001B[0m \u001B[38;5;28;01mif\u001B[39;00m indexer \u001B[38;5;129;01mis\u001B[39;00m \u001B[38;5;129;01mnot\u001B[39;00m \u001B[38;5;28;01mNone\u001B[39;00m \u001B[38;5;129;01mand\u001B[39;00m \u001B[38;5;28misinstance\u001B[39m(topn, \u001B[38;5;28mint\u001B[39m):\n",
      "File \u001B[1;32m~\\PycharmProjects\\nlp_course\\venv\\lib\\site-packages\\gensim\\models\\keyedvectors.py:518\u001B[0m, in \u001B[0;36mKeyedVectors.get_mean_vector\u001B[1;34m(self, keys, weights, pre_normalize, post_normalize, ignore_missing)\u001B[0m\n\u001B[0;32m    516\u001B[0m         total_weight \u001B[38;5;241m+\u001B[39m\u001B[38;5;241m=\u001B[39m \u001B[38;5;28mabs\u001B[39m(weights[idx])\n\u001B[0;32m    517\u001B[0m     \u001B[38;5;28;01melif\u001B[39;00m \u001B[38;5;129;01mnot\u001B[39;00m ignore_missing:\n\u001B[1;32m--> 518\u001B[0m         \u001B[38;5;28;01mraise\u001B[39;00m \u001B[38;5;167;01mKeyError\u001B[39;00m(\u001B[38;5;124mf\u001B[39m\u001B[38;5;124m\"\u001B[39m\u001B[38;5;124mKey \u001B[39m\u001B[38;5;124m'\u001B[39m\u001B[38;5;132;01m{\u001B[39;00mkey\u001B[38;5;132;01m}\u001B[39;00m\u001B[38;5;124m'\u001B[39m\u001B[38;5;124m not present in vocabulary\u001B[39m\u001B[38;5;124m\"\u001B[39m)\n\u001B[0;32m    520\u001B[0m \u001B[38;5;28;01mif\u001B[39;00m total_weight \u001B[38;5;241m>\u001B[39m \u001B[38;5;241m0\u001B[39m:\n\u001B[0;32m    521\u001B[0m     mean \u001B[38;5;241m=\u001B[39m mean \u001B[38;5;241m/\u001B[39m total_weight\n",
      "\u001B[1;31mKeyError\u001B[0m: \"Key 'please' not present in vocabulary\""
     ]
    }
   ],
   "source": [
    "# model.wv.most_similar(['please'])"
   ],
   "metadata": {
    "collapsed": false,
    "ExecuteTime": {
     "end_time": "2023-10-21T20:05:01.573174900Z",
     "start_time": "2023-10-21T20:05:00.351707800Z"
    }
   }
  },
  {
   "cell_type": "code",
   "execution_count": 11,
   "outputs": [
    {
     "data": {
      "text/plain": "[('ago', 0.48007732629776),\n ('critic', 0.32793354988098145),\n ('cleaning', 0.3176586627960205),\n ('decline', 0.306522399187088),\n ('fortune', 0.3062097430229187),\n ('quarter', 0.30355849862098694),\n ('decade', 0.30012303590774536),\n ('ancient', 0.29547443985939026),\n ('boom', 0.29300931096076965),\n ('roongthip', 0.2895958125591278)]"
     },
     "execution_count": 11,
     "metadata": {},
     "output_type": "execute_result"
    }
   ],
   "source": [
    "model.wv.most_similar(['year'])"
   ],
   "metadata": {
    "collapsed": false,
    "ExecuteTime": {
     "end_time": "2023-10-21T20:05:28.550170400Z",
     "start_time": "2023-10-21T20:05:28.267101200Z"
    }
   }
  },
  {
   "cell_type": "code",
   "execution_count": 12,
   "outputs": [
    {
     "data": {
      "text/plain": "[('waider', 0.38061824440956116),\n ('diagnostic', 0.310423880815506),\n ('integral', 0.3077784776687622),\n ('systemwork', 0.29766395688056946),\n ('insane', 0.29694104194641113),\n ('sheep', 0.2927458882331848),\n ('special', 0.29171574115753174),\n ('yer', 0.2860548198223114),\n ('skeptical', 0.28199058771133423),\n ('ro', 0.27686643600463867)]"
     },
     "execution_count": 12,
     "metadata": {},
     "output_type": "execute_result"
    }
   ],
   "source": [
    "model.wv.most_similar(['yes'])"
   ],
   "metadata": {
    "collapsed": false,
    "ExecuteTime": {
     "end_time": "2023-10-21T20:05:28.601026600Z",
     "start_time": "2023-10-21T20:05:28.312099300Z"
    }
   }
  },
  {
   "cell_type": "code",
   "execution_count": 13,
   "outputs": [
    {
     "data": {
      "text/plain": "[('egwn', 0.3719348609447479),\n ('tar', 0.36590030789375305),\n ('alvie', 0.35488829016685486),\n ('automate', 0.3468570411205292),\n ('mord', 0.34682178497314453),\n ('charset', 0.3431834876537323),\n ('iso', 0.3379915654659271),\n ('hash', 0.336651086807251),\n ('eircom', 0.3355945348739624),\n ('lance', 0.33499741554260254)]"
     },
     "execution_count": 13,
     "metadata": {},
     "output_type": "execute_result"
    }
   ],
   "source": [
    "model.wv.most_similar(['hi'])"
   ],
   "metadata": {
    "collapsed": false,
    "ExecuteTime": {
     "end_time": "2023-10-21T20:05:28.606253800Z",
     "start_time": "2023-10-21T20:05:28.322102600Z"
    }
   }
  },
  {
   "cell_type": "code",
   "execution_count": 14,
   "outputs": [
    {
     "data": {
      "text/plain": "'yes'"
     },
     "execution_count": 14,
     "metadata": {},
     "output_type": "execute_result"
    }
   ],
   "source": [
    "model.wv.doesnt_match(['yes', 'no', 'I', 'agree'])"
   ],
   "metadata": {
    "collapsed": false,
    "ExecuteTime": {
     "end_time": "2023-10-21T20:05:28.607056Z",
     "start_time": "2023-10-21T20:05:28.339891900Z"
    }
   }
  },
  {
   "cell_type": "code",
   "execution_count": 15,
   "outputs": [
    {
     "data": {
      "text/plain": "'car'"
     },
     "execution_count": 15,
     "metadata": {},
     "output_type": "execute_result"
    }
   ],
   "source": [
    "model.wv.doesnt_match(['week', 'year', 'month', 'car', 'second'])"
   ],
   "metadata": {
    "collapsed": false,
    "ExecuteTime": {
     "end_time": "2023-10-21T20:05:28.608207Z",
     "start_time": "2023-10-21T20:05:28.360098300Z"
    }
   }
  },
  {
   "cell_type": "code",
   "execution_count": 16,
   "outputs": [
    {
     "data": {
      "text/plain": "'sky'"
     },
     "execution_count": 16,
     "metadata": {},
     "output_type": "execute_result"
    }
   ],
   "source": [
    "model.wv.doesnt_match(['milk', 'bread', 'sky', 'cherry'])"
   ],
   "metadata": {
    "collapsed": false,
    "ExecuteTime": {
     "end_time": "2023-10-21T20:05:28.641028600Z",
     "start_time": "2023-10-21T20:05:28.386938400Z"
    }
   }
  },
  {
   "cell_type": "code",
   "execution_count": 17,
   "outputs": [
    {
     "data": {
      "text/plain": "array([[1.        , 0.04389708],\n       [0.04389708, 1.        ]])"
     },
     "execution_count": 17,
     "metadata": {},
     "output_type": "execute_result"
    }
   ],
   "source": [
    "def cos(v1, v2):\n",
    "    return 1 - cosine(v1, v2)\n",
    "\n",
    "def correlation():\n",
    "    file = open(\"Таблицы для оценки эмбеддингов/SimLex-999.txt\", \"r\")\n",
    "    lines = file.readlines()\n",
    "    cos_arr = []\n",
    "    simlex_arr = []\n",
    "    for line in lines[1:]:\n",
    "        a = line.split()\n",
    "        try:\n",
    "            coss = cos(model.wv[a[0]], model.wv[a[1]])\n",
    "            cos_arr.append(coss)\n",
    "            simlex_arr.append(float(a[3]))\n",
    "        except:\n",
    "            pass\n",
    "    file.close()\n",
    "    return np.corrcoef(cos_arr, simlex_arr)\n",
    "\n",
    "r = correlation()\n",
    "r"
   ],
   "metadata": {
    "collapsed": false,
    "ExecuteTime": {
     "end_time": "2023-10-21T20:05:28.642031400Z",
     "start_time": "2023-10-21T20:05:28.403999100Z"
    }
   }
  },
  {
   "cell_type": "markdown",
   "source": [
    "Не очень хороший корпус, doesnt_match и most_similar могут выдавать странные результаты, косинусное расстояние между парами эмбеддингов не коррелирует с SimLex (но это не значит, что у них нет связи)."
   ],
   "metadata": {
    "collapsed": false
   }
  },
  {
   "cell_type": "markdown",
   "source": [
    "# Классификация"
   ],
   "metadata": {
    "collapsed": false
   }
  },
  {
   "cell_type": "code",
   "execution_count": 18,
   "outputs": [
    {
     "data": {
      "text/plain": "1826    [url, url, date, tue, number, sep, number, num...\n122     [let, write, mind, know, awful, lot, oh, inter...\n1726    [tim, peters, write, ve, get, summary, file, c...\n1123    [hal, devore, say, brent, say, book, paste, fu...\n1836    [url, url, date, supply, carny, concessionaire...\nName: cleaned_text, dtype: object"
     },
     "execution_count": 18,
     "metadata": {},
     "output_type": "execute_result"
    }
   ],
   "source": [
    "X_train[:5]"
   ],
   "metadata": {
    "collapsed": false,
    "ExecuteTime": {
     "end_time": "2023-10-21T20:05:28.642031400Z",
     "start_time": "2023-10-21T20:05:28.463032100Z"
    }
   }
  },
  {
   "cell_type": "code",
   "execution_count": 24,
   "outputs": [
    {
     "data": {
      "text/plain": "[array([-3.90341952e-02, -4.37641330e-02, -5.81686106e-03,  4.76925969e-02,\n         1.18507251e-01, -2.67319679e-02, -2.23580152e-02, -2.80302584e-01,\n        -1.64315239e-01,  1.07235335e-01,  8.68953392e-02, -2.59705663e-01,\n        -8.17224830e-02,  5.85795566e-02, -3.00729722e-01,  1.29397407e-01,\n        -5.68541512e-02,  2.30266884e-01, -2.56217390e-01,  6.86596856e-02,\n         7.08904210e-03, -8.91305506e-02, -1.03342691e-02, -1.20466754e-01,\n        -7.20183328e-02, -9.12771672e-02,  1.26936678e-02,  3.31341103e-02,\n         3.70740481e-02, -4.12742421e-02, -1.46724638e-02, -1.28047289e-02,\n        -1.84561759e-01,  2.82970560e-03,  4.35091481e-02, -1.46791875e-01,\n        -2.24418014e-01,  1.44622430e-01,  1.86231524e-01, -8.78849626e-02,\n        -5.24196848e-02,  4.16973159e-02,  1.20163128e-01, -1.26813427e-01,\n         1.69939712e-01,  1.62201539e-01,  3.55117843e-02, -5.82135543e-02,\n        -6.66021928e-02, -1.26794800e-01, -6.65922314e-02,  5.30891232e-02,\n         5.65695986e-02,  3.72085273e-02,  5.84500134e-02,  1.77580982e-01,\n        -2.72491984e-02, -1.24330804e-01,  7.57656470e-02,  2.10639201e-02,\n         3.32279429e-02,  1.58431172e-01, -6.07144907e-02, -2.42703594e-02,\n         1.37435887e-02, -6.14799336e-02,  3.88300425e-04, -9.02445018e-02,\n        -1.30110662e-02, -1.06385626e-01,  1.62316352e-01, -1.32101597e-02,\n         3.35519940e-01, -1.18033372e-01,  5.86274751e-02,  3.02604645e-01,\n         1.43829986e-01,  1.46721110e-01,  2.23218322e-01,  1.91054434e-01,\n         5.52262478e-02,  1.80939764e-01,  2.56550126e-02, -4.95779589e-02,\n         1.03770852e-01, -5.17298095e-02,  1.84791200e-02, -2.94879824e-01,\n        -1.38006851e-01,  8.26111883e-02, -7.51326978e-03, -5.37165478e-02,\n         2.20168158e-01, -8.43075141e-02,  6.87220469e-02,  1.38977781e-01,\n         2.30212025e-02,  1.14327766e-01,  6.90019801e-02, -1.87447425e-02,\n        -1.39494732e-01, -2.94136219e-02, -1.11705229e-01,  4.68093976e-02,\n         1.74883753e-01,  1.80356950e-01,  5.63944504e-02,  3.28580648e-01,\n         1.11333109e-01, -6.99109063e-02,  2.79575139e-01, -2.56995857e-01,\n         7.34692067e-02,  2.37271786e-02,  7.41921877e-03,  2.25024670e-01,\n         2.74841543e-02,  1.27464220e-01, -8.80686119e-02,  6.36421982e-03,\n        -3.29732150e-03, -9.74483192e-02, -5.62576652e-02,  1.45377386e-02,\n         5.34415767e-02, -3.38582508e-02, -1.48761690e-01,  1.01166204e-01,\n         2.72137552e-01,  1.11572765e-01, -1.08293697e-01,  2.61855125e-03,\n         1.20265797e-01,  8.60850066e-02,  1.39829023e-02, -1.91369072e-01,\n         2.03896955e-01,  4.37291339e-02, -3.14955823e-02, -1.49859458e-01,\n        -1.29619628e-01,  1.77492887e-01, -3.93187143e-02,  3.92998755e-02,\n         4.40445207e-02,  9.15451720e-02,  2.09212527e-02,  1.22192428e-01,\n         2.27307212e-02, -1.68376379e-02,  5.84146567e-03,  3.06250118e-02,\n         4.91191167e-03, -1.87786706e-02, -9.71760973e-02, -9.22342688e-02,\n        -4.55910638e-02,  2.99080964e-02,  7.25269169e-02,  1.20292090e-01,\n         4.60653827e-02, -1.25134110e-01,  1.17027298e-01,  2.99269974e-01,\n         1.77230500e-03, -7.89952949e-02, -8.23348016e-02, -7.21697733e-02,\n        -1.45111948e-01, -5.87873347e-02,  2.73613900e-01, -3.97435874e-02,\n         1.18584083e-02, -1.30902603e-01, -2.11041179e-02,  1.44080043e-01,\n         7.09427074e-02,  1.26970589e-01,  9.61614251e-02,  2.02495500e-01,\n         1.26716092e-01, -1.86588075e-02, -7.73185045e-02, -1.85885936e-01,\n         1.66278034e-02, -1.14767075e-01,  3.51449773e-02, -1.16305791e-01,\n        -2.02756003e-01, -7.24563282e-03, -2.53197793e-02, -2.95292330e-03,\n         3.07038017e-02,  1.51830927e-01, -2.30656952e-01, -3.98579501e-02,\n         1.09406315e-01, -8.63704756e-02,  1.64413083e-04, -1.27885463e-02,\n        -3.81067395e-02,  9.17730778e-02, -1.17661888e-02,  2.22507328e-01,\n        -2.72317640e-02, -2.76416149e-02, -1.38153732e-01,  1.20102033e-01,\n        -4.26224507e-02,  4.28942312e-03,  1.30725890e-01, -3.96271758e-02,\n        -2.32444093e-01,  8.91036838e-02,  1.07658729e-01, -4.46782112e-02,\n         1.38763800e-01, -7.93010518e-02,  2.13430196e-01,  3.09494317e-01,\n        -7.05087185e-02,  4.03806046e-02, -2.98236571e-02,  2.52388030e-01,\n         2.62781940e-02, -9.44738239e-02,  4.48666140e-02, -2.87579596e-01,\n         2.55087852e-01,  1.55684665e-01, -4.36788388e-02, -1.02285124e-01,\n        -4.89028171e-02, -3.98235098e-02, -1.18667126e-01,  4.58424613e-02,\n        -1.64147645e-01, -9.45663750e-02,  8.06460977e-02,  1.02146365e-01,\n        -5.39286248e-02, -1.52450264e-01, -9.50313434e-02, -1.37264907e-01,\n         1.74621064e-02, -8.59579444e-03,  1.84365392e-01, -2.27464493e-02,\n        -2.55175531e-01,  1.48423389e-01,  1.65748239e-01, -2.38892823e-01,\n         3.77758220e-02, -1.23144925e-01, -1.10335805e-01, -2.06928089e-01],\n       dtype=float32)]"
     },
     "execution_count": 24,
     "metadata": {},
     "output_type": "execute_result"
    }
   ],
   "source": [
    "# Получаем эмбеддинг для текста\n",
    "def document_vector(doc):\n",
    "    doc = [model.wv[word] for word in doc if word in model.wv.key_to_index.keys()]\n",
    "    if not doc:\n",
    "        return [0 for i in range(VECTOR_SIZE)]\n",
    "    return np.mean(doc, axis=0)\n",
    "\n",
    "X = list(X_train.apply(document_vector))\n",
    "X_test_ = list(X_test.apply(document_vector))\n",
    "X[:1]"
   ],
   "metadata": {
    "collapsed": false,
    "ExecuteTime": {
     "end_time": "2023-10-21T20:07:36.233224300Z",
     "start_time": "2023-10-21T20:07:35.362472300Z"
    }
   }
  },
  {
   "cell_type": "code",
   "execution_count": 25,
   "outputs": [
    {
     "name": "stdout",
     "output_type": "stream",
     "text": [
      "              precision    recall  f1-score   support\n",
      "\n",
      "           0       0.98      1.00      0.99       616\n",
      "           1       0.98      0.92      0.95       134\n",
      "\n",
      "    accuracy                           0.98       750\n",
      "   macro avg       0.98      0.96      0.97       750\n",
      "weighted avg       0.98      0.98      0.98       750\n",
      "\n"
     ]
    }
   ],
   "source": [
    "clf = LogisticRegression()\n",
    "clf.fit(X, y_train)\n",
    "\n",
    "y_pred = clf.predict(X_test_)\n",
    "print(classification_report(y_test, y_pred))"
   ],
   "metadata": {
    "collapsed": false,
    "ExecuteTime": {
     "end_time": "2023-10-21T20:07:36.389232900Z",
     "start_time": "2023-10-21T20:07:36.239231600Z"
    }
   }
  },
  {
   "cell_type": "markdown",
   "source": [
    "# Векторизация: FastText"
   ],
   "metadata": {
    "collapsed": false
   }
  },
  {
   "cell_type": "code",
   "execution_count": 26,
   "outputs": [
    {
     "name": "stdout",
     "output_type": "stream",
     "text": [
      "CPU times: total: 3min 16s\n",
      "Wall time: 1min 40s\n"
     ]
    }
   ],
   "source": [
    "%%time\n",
    "VECTOR_SIZE = 256\n",
    "model = gensim.models.FastText(\n",
    "    sentences=X_train,\n",
    "    vector_size=VECTOR_SIZE, # default = 100\n",
    "    window=7, # default = 5\n",
    "    min_count=10,\n",
    "    sg=1, # Training algorithm: 1 for skip-gram; otherwise CBOW\n",
    "    hs=0, #  If 1, hierarchical softmax will be used for model training. If 0, and negative is non-zero, negative sampling will be used.\n",
    "    negative=5, # If > 0, negative sampling will be used, if set to 0, no negative sampling is used.\n",
    "    epochs=25, # Number of iterations (epochs) over the corpus\n",
    "    seed=2023,\n",
    ")"
   ],
   "metadata": {
    "collapsed": false,
    "ExecuteTime": {
     "end_time": "2023-10-21T20:09:42.818594600Z",
     "start_time": "2023-10-21T20:08:01.899982700Z"
    }
   }
  },
  {
   "cell_type": "markdown",
   "source": [
    "Intrinsic оценка качества эмбеддингов"
   ],
   "metadata": {
    "collapsed": false
   }
  },
  {
   "cell_type": "code",
   "execution_count": 27,
   "outputs": [
    {
     "data": {
      "text/plain": "[('pleased', 0.8277225494384766),\n ('lease', 0.8145703673362732),\n ('release', 0.7282434701919556),\n ('ease', 0.5974870920181274),\n ('taongi', 0.37620288133621216),\n ('silverstein', 0.37528330087661743),\n ('november', 0.37056368589401245),\n ('increase', 0.3670535087585449),\n ('decrease', 0.36150550842285156),\n ('hawaii', 0.36009329557418823)]"
     },
     "execution_count": 27,
     "metadata": {},
     "output_type": "execute_result"
    }
   ],
   "source": [
    "model.wv.most_similar(['please'])"
   ],
   "metadata": {
    "collapsed": false,
    "ExecuteTime": {
     "end_time": "2023-10-21T20:09:43.004668Z",
     "start_time": "2023-10-21T20:09:42.892165800Z"
    }
   }
  },
  {
   "cell_type": "code",
   "execution_count": 28,
   "outputs": [
    {
     "data": {
      "text/plain": "[('ago', 0.4534580111503601),\n ('quarter', 0.3285188376903534),\n ('fortune', 0.31809350848197937),\n ('yeah', 0.31695255637168884),\n ('tear', 0.30521297454833984),\n ('decade', 0.3046306371688843),\n ('fear', 0.30234983563423157),\n ('ear', 0.2993944585323334),\n ('yer', 0.29226720333099365),\n ('roongthip', 0.2916625440120697)]"
     },
     "execution_count": 28,
     "metadata": {},
     "output_type": "execute_result"
    }
   ],
   "source": [
    "model.wv.most_similar(['year'])"
   ],
   "metadata": {
    "collapsed": false,
    "ExecuteTime": {
     "end_time": "2023-10-21T20:09:43.091979100Z",
     "start_time": "2023-10-21T20:09:43.012786300Z"
    }
   }
  },
  {
   "cell_type": "code",
   "execution_count": 29,
   "outputs": [
    {
     "data": {
      "text/plain": "[('alvie', 0.3735935389995575),\n ('shanumber', 0.37144735455513),\n ('poker', 0.3562904894351959),\n ('numberanumber', 0.35401031374931335),\n ('mplayer', 0.3452795147895813),\n ('libanumber', 0.3444075584411621),\n ('phil', 0.34387990832328796),\n ('yannick', 0.3426068127155304),\n ('numberpm', 0.3407646715641022),\n ('suse', 0.3402622640132904)]"
     },
     "execution_count": 29,
     "metadata": {},
     "output_type": "execute_result"
    }
   ],
   "source": [
    "model.wv.most_similar(['hi'])"
   ],
   "metadata": {
    "collapsed": false,
    "ExecuteTime": {
     "end_time": "2023-10-21T20:09:43.110976500Z",
     "start_time": "2023-10-21T20:09:43.043666800Z"
    }
   }
  },
  {
   "cell_type": "code",
   "execution_count": 30,
   "outputs": [
    {
     "data": {
      "text/plain": "'I'"
     },
     "execution_count": 30,
     "metadata": {},
     "output_type": "execute_result"
    }
   ],
   "source": [
    "model.wv.doesnt_match(['yes', 'no', 'I', 'agree'])"
   ],
   "metadata": {
    "collapsed": false,
    "ExecuteTime": {
     "end_time": "2023-10-21T20:09:43.113977Z",
     "start_time": "2023-10-21T20:09:43.073663100Z"
    }
   }
  },
  {
   "cell_type": "code",
   "execution_count": 31,
   "outputs": [
    {
     "data": {
      "text/plain": "'car'"
     },
     "execution_count": 31,
     "metadata": {},
     "output_type": "execute_result"
    }
   ],
   "source": [
    "model.wv.doesnt_match(['week', 'year', 'month', 'car', 'second'])"
   ],
   "metadata": {
    "collapsed": false,
    "ExecuteTime": {
     "end_time": "2023-10-21T20:09:43.217708900Z",
     "start_time": "2023-10-21T20:09:43.115980Z"
    }
   }
  },
  {
   "cell_type": "code",
   "execution_count": 32,
   "outputs": [
    {
     "data": {
      "text/plain": "'bread'"
     },
     "execution_count": 32,
     "metadata": {},
     "output_type": "execute_result"
    }
   ],
   "source": [
    "model.wv.doesnt_match(['milk', 'bread', 'sky', 'cherry'])"
   ],
   "metadata": {
    "collapsed": false,
    "ExecuteTime": {
     "end_time": "2023-10-21T20:09:43.230708700Z",
     "start_time": "2023-10-21T20:09:43.136716100Z"
    }
   }
  },
  {
   "cell_type": "code",
   "execution_count": 33,
   "outputs": [
    {
     "data": {
      "text/plain": "array([[1.        , 0.02055517],\n       [0.02055517, 1.        ]])"
     },
     "execution_count": 33,
     "metadata": {},
     "output_type": "execute_result"
    }
   ],
   "source": [
    "r = correlation()\n",
    "r"
   ],
   "metadata": {
    "collapsed": false,
    "ExecuteTime": {
     "end_time": "2023-10-21T20:09:43.351604900Z",
     "start_time": "2023-10-21T20:09:43.163716500Z"
    }
   }
  },
  {
   "cell_type": "code",
   "execution_count": 34,
   "outputs": [
    {
     "data": {
      "text/plain": "0.17172729969024658"
     },
     "execution_count": 34,
     "metadata": {},
     "output_type": "execute_result"
    }
   ],
   "source": [
    "cos(model.wv['old'], model.wv['new']) # simlex A, 1.58"
   ],
   "metadata": {
    "collapsed": false,
    "ExecuteTime": {
     "end_time": "2023-10-21T20:09:43.417601900Z",
     "start_time": "2023-10-21T20:09:43.362610500Z"
    }
   }
  },
  {
   "cell_type": "code",
   "execution_count": 35,
   "outputs": [
    {
     "data": {
      "text/plain": "0.2806139588356018"
     },
     "execution_count": 35,
     "metadata": {},
     "output_type": "execute_result"
    }
   ],
   "source": [
    "cos(model.wv['bread'], model.wv['flour']) # simlex N, 3.33"
   ],
   "metadata": {
    "collapsed": false,
    "ExecuteTime": {
     "end_time": "2023-10-21T20:09:43.576641Z",
     "start_time": "2023-10-21T20:09:43.418605100Z"
    }
   }
  },
  {
   "cell_type": "code",
   "execution_count": 36,
   "outputs": [
    {
     "data": {
      "text/plain": "0.17136511206626892"
     },
     "execution_count": 36,
     "metadata": {},
     "output_type": "execute_result"
    }
   ],
   "source": [
    "cos(model.wv['bad'], model.wv['awful']) # simlex A, 8.42"
   ],
   "metadata": {
    "collapsed": false,
    "ExecuteTime": {
     "end_time": "2023-10-21T20:09:43.578724Z",
     "start_time": "2023-10-21T20:09:43.468175900Z"
    }
   }
  },
  {
   "cell_type": "code",
   "execution_count": 37,
   "outputs": [
    {
     "data": {
      "text/plain": "0.17018096148967743"
     },
     "execution_count": 37,
     "metadata": {},
     "output_type": "execute_result"
    }
   ],
   "source": [
    "cos(model.wv['large'], model.wv['huge']) # simlex A, 9.47"
   ],
   "metadata": {
    "collapsed": false,
    "ExecuteTime": {
     "end_time": "2023-10-21T20:09:43.580851500Z",
     "start_time": "2023-10-21T20:09:43.516444800Z"
    }
   }
  },
  {
   "cell_type": "code",
   "execution_count": 38,
   "outputs": [
    {
     "data": {
      "text/plain": "0.21786004304885864"
     },
     "execution_count": 38,
     "metadata": {},
     "output_type": "execute_result"
    }
   ],
   "source": [
    "cos(model.wv['cat'], model.wv['dog']) # simlex N, 1.75"
   ],
   "metadata": {
    "collapsed": false,
    "ExecuteTime": {
     "end_time": "2023-10-21T20:09:43.597727600Z",
     "start_time": "2023-10-21T20:09:43.557546200Z"
    }
   }
  },
  {
   "cell_type": "markdown",
   "source": [
    "FastText тоже ошибается, но уже на других примерах, корреляции с SimLex тоже нет."
   ],
   "metadata": {
    "collapsed": false
   }
  },
  {
   "cell_type": "markdown",
   "source": [
    "# Классификация"
   ],
   "metadata": {
    "collapsed": false
   }
  },
  {
   "cell_type": "code",
   "execution_count": null,
   "outputs": [],
   "source": [
    "# Получаем эмбеддинг для текста\n",
    "def document_vector(doc):\n",
    "    doc = [model.wv[word] for word in doc if word in model.wv.key_to_index.keys()]\n",
    "    if not doc:\n",
    "        return [0 for i in range(VECTOR_SIZE)]\n",
    "    return np.mean(doc, axis=0)\n",
    "\n",
    "X = list(X_train.apply(document_vector))\n",
    "X_test_ = list(X_test.apply(document_vector))"
   ],
   "metadata": {
    "collapsed": false
   }
  },
  {
   "cell_type": "code",
   "execution_count": 40,
   "outputs": [
    {
     "name": "stdout",
     "output_type": "stream",
     "text": [
      "              precision    recall  f1-score   support\n",
      "\n",
      "           0       0.98      1.00      0.99       616\n",
      "           1       0.99      0.92      0.95       134\n",
      "\n",
      "    accuracy                           0.98       750\n",
      "   macro avg       0.99      0.96      0.97       750\n",
      "weighted avg       0.98      0.98      0.98       750\n",
      "\n"
     ]
    }
   ],
   "source": [
    "clf = LogisticRegression()\n",
    "clf.fit(X, y_train)\n",
    "\n",
    "y_pred = clf.predict(X_test_)\n",
    "print(classification_report(y_test, y_pred))"
   ],
   "metadata": {
    "collapsed": false,
    "ExecuteTime": {
     "end_time": "2023-10-21T20:09:50.082978900Z",
     "start_time": "2023-10-21T20:09:48.763056600Z"
    }
   }
  },
  {
   "cell_type": "markdown",
   "source": [
    "И для Word2Vec CBOW, и для FastText эмбеддингов логистическая регрессия выдала примерно одинаковый результат."
   ],
   "metadata": {
    "collapsed": false
   }
  }
 ],
 "metadata": {
  "colab": {
   "provenance": [],
   "toc_visible": true
  },
  "kernelspec": {
   "name": "python3",
   "language": "python",
   "display_name": "Python 3 (ipykernel)"
  },
  "language_info": {
   "name": "python",
   "version": "3.10.3"
  }
 },
 "nbformat": 4,
 "nbformat_minor": 0
}
