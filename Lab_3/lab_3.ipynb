{
 "cells": [
  {
   "cell_type": "code",
   "execution_count": 1,
   "metadata": {
    "id": "idJUdyE2y1f2",
    "ExecuteTime": {
     "end_time": "2023-12-02T13:00:18.510513700Z",
     "start_time": "2023-12-02T13:00:10.047705100Z"
    }
   },
   "outputs": [],
   "source": [
    "import pandas as pd\n",
    "import numpy as np\n",
    "import spacy\n",
    "from sklearn.model_selection import train_test_split\n",
    "from gensim.models import FastText\n",
    "from sklearn.linear_model import LogisticRegression\n",
    "from scipy.spatial.distance import cosine\n",
    "from sklearn.metrics import classification_report\n",
    "import warnings\n",
    "import gensim.models\n",
    "\n",
    "warnings.simplefilter(action='ignore', category=FutureWarning)"
   ]
  },
  {
   "cell_type": "code",
   "execution_count": null,
   "metadata": {
    "id": "8OxNS_SSyp14"
   },
   "outputs": [],
   "source": [
    "!python -m spacy download en_core_web_sm"
   ]
  },
  {
   "attachments": {},
   "cell_type": "markdown",
   "metadata": {
    "id": "mSjL2MOmydAc"
   },
   "source": [
    "# Получение данных\n",
    "[\n",
    "Spam or Not Spam Dataset](https://www.kaggle.com/datasets/ozlerhakan/spam-or-not-spam-dataset/)"
   ]
  },
  {
   "cell_type": "code",
   "execution_count": 3,
   "metadata": {
    "colab": {
     "base_uri": "https://localhost:8080/",
     "height": 206
    },
    "id": "YEg_mkgJvvpt",
    "outputId": "6f355bc8-6e7c-403b-bcc3-aa799afa744d",
    "ExecuteTime": {
     "end_time": "2023-12-02T13:00:35.211237300Z",
     "start_time": "2023-12-02T13:00:35.046247700Z"
    }
   },
   "outputs": [
    {
     "data": {
      "text/plain": "                                               email  label\n0   date wed NUMBER aug NUMBER NUMBER NUMBER NUMB...      0\n1  martin a posted tassos papadopoulos the greek ...      0\n2  man threatens explosion in moscow thursday aug...      0\n3  klez the virus that won t die already the most...      0\n4   in adding cream to spaghetti carbonara which ...      0",
      "text/html": "<div>\n<style scoped>\n    .dataframe tbody tr th:only-of-type {\n        vertical-align: middle;\n    }\n\n    .dataframe tbody tr th {\n        vertical-align: top;\n    }\n\n    .dataframe thead th {\n        text-align: right;\n    }\n</style>\n<table border=\"1\" class=\"dataframe\">\n  <thead>\n    <tr style=\"text-align: right;\">\n      <th></th>\n      <th>email</th>\n      <th>label</th>\n    </tr>\n  </thead>\n  <tbody>\n    <tr>\n      <th>0</th>\n      <td>date wed NUMBER aug NUMBER NUMBER NUMBER NUMB...</td>\n      <td>0</td>\n    </tr>\n    <tr>\n      <th>1</th>\n      <td>martin a posted tassos papadopoulos the greek ...</td>\n      <td>0</td>\n    </tr>\n    <tr>\n      <th>2</th>\n      <td>man threatens explosion in moscow thursday aug...</td>\n      <td>0</td>\n    </tr>\n    <tr>\n      <th>3</th>\n      <td>klez the virus that won t die already the most...</td>\n      <td>0</td>\n    </tr>\n    <tr>\n      <th>4</th>\n      <td>in adding cream to spaghetti carbonara which ...</td>\n      <td>0</td>\n    </tr>\n  </tbody>\n</table>\n</div>"
     },
     "execution_count": 3,
     "metadata": {},
     "output_type": "execute_result"
    }
   ],
   "source": [
    "data = pd.read_csv('spam_or_not_spam.csv')\n",
    "data = data.astype({'email':'string'})\n",
    "data.head()"
   ]
  },
  {
   "cell_type": "code",
   "execution_count": 4,
   "metadata": {
    "ExecuteTime": {
     "end_time": "2023-12-02T13:00:35.377276300Z",
     "start_time": "2023-12-02T13:00:35.203241800Z"
    }
   },
   "outputs": [
    {
     "name": "stdout",
     "output_type": "stream",
     "text": [
      "<class 'pandas.core.frame.DataFrame'>\n",
      "Index: 2999 entries, 0 to 2999\n",
      "Data columns (total 2 columns):\n",
      " #   Column  Non-Null Count  Dtype \n",
      "---  ------  --------------  ----- \n",
      " 0   email   2999 non-null   string\n",
      " 1   label   2999 non-null   int64 \n",
      "dtypes: int64(1), string(1)\n",
      "memory usage: 70.3 KB\n"
     ]
    }
   ],
   "source": [
    "data.dropna(inplace=True)\n",
    "data.info()"
   ]
  },
  {
   "cell_type": "code",
   "execution_count": 5,
   "metadata": {
    "colab": {
     "base_uri": "https://localhost:8080/"
    },
    "id": "ze-HO-tLvyPN",
    "outputId": "afa04cc4-b7dd-4908-c709-ea904f378cfc",
    "ExecuteTime": {
     "end_time": "2023-12-02T13:00:35.405246100Z",
     "start_time": "2023-12-02T13:00:35.253243Z"
    }
   },
   "outputs": [
    {
     "data": {
      "text/plain": "label\n0    2500\n1     499\nName: count, dtype: int64"
     },
     "execution_count": 5,
     "metadata": {},
     "output_type": "execute_result"
    }
   ],
   "source": [
    "data['label'].value_counts()"
   ]
  },
  {
   "attachments": {},
   "cell_type": "markdown",
   "metadata": {
    "id": "IEHyPWhH3y5A"
   },
   "source": [
    "# Очистка"
   ]
  },
  {
   "attachments": {},
   "cell_type": "markdown",
   "metadata": {
    "id": "9focrcgE1uQC"
   },
   "source": [
    "Стоп-слова для английского языка в spaCy"
   ]
  },
  {
   "cell_type": "code",
   "execution_count": 6,
   "metadata": {
    "colab": {
     "base_uri": "https://localhost:8080/",
     "height": 157
    },
    "id": "VTUQARMYx1fS",
    "outputId": "31d9f337-4767-42ff-e458-cd1af63092a4",
    "ExecuteTime": {
     "end_time": "2023-12-02T13:00:36.577154800Z",
     "start_time": "2023-12-02T13:00:35.282241300Z"
    }
   },
   "outputs": [
    {
     "name": "stdout",
     "output_type": "stream",
     "text": [
      "Spacy english stopwords size: 326\n",
      "\n"
     ]
    },
    {
     "data": {
      "text/plain": "\"towards i anyone already per yours mostly itself ’d please throughout what some moreover ‘d top yet ’m only sixty even anyway least one forty others made eleven neither why whereafter above will wherein former several hundred about they up upon than before had ’re someone seem except ourselves sometime which wherever hereupon beside otherwise whether often off became always ‘m everyone the with ’s everything become 's such or without here myself 've nobody whereupon doing nevertheless whenever together does due just full keep toward ever thereupon three its unless no every are two formerly of really until to me 'd nine within yourselves them nowhere show would done regarding noone much each n‘t during you re next beforehand were bottom she thence cannot none front almost these take where through for whoever go this around never between move becomes he over our name either therein ours hence an as eight somewhere along ca latterly many among being another behind can herein namely ‘re same thus out may whom whence afterwards seemed mine since else anywhere quite whereas while fifty ’ll whole in however few alone should thru because there themselves therefore hers my last amount 'm be herself own beyond himself somehow third ‘ll again seems sometimes below who a ’ve do side meanwhile any must well see whatever hereafter at am used those her more your thereby nor now whereby say then becoming twelve amongst besides something get into that after it serious whither elsewhere very ‘ve 're ‘s from all onto twenty give him anything their against less put his but how various part under perhaps too thereafter might on so n’t using via everywhere although also hereby us fifteen both and have 'll we call across make five anyhow has could ten by whose nothing seeming was not still is n't enough further indeed six most first though yourself back four empty once other been rather did when down latter if\""
     },
     "execution_count": 6,
     "metadata": {},
     "output_type": "execute_result"
    }
   ],
   "source": [
    "nlp = spacy.load(\"en_core_web_sm\")\n",
    "stopwords = nlp.Defaults.stop_words\n",
    "print(f'Spacy english stopwords size: {len(stopwords)}', end='\\n\\n')\n",
    "' '.join(stopwords)"
   ]
  },
  {
   "attachments": {},
   "cell_type": "markdown",
   "metadata": {
    "id": "6q38y87s1z0Z"
   },
   "source": [
    "Атрибуты [Token](https://spacy.io/api/token#attributes)"
   ]
  },
  {
   "cell_type": "code",
   "execution_count": 7,
   "metadata": {
    "colab": {
     "base_uri": "https://localhost:8080/",
     "height": 241
    },
    "id": "jbJXNs0x0ugi",
    "outputId": "3ca5faa4-0e7d-42f7-8377-a583f4cef1a0",
    "ExecuteTime": {
     "end_time": "2023-12-02T13:02:38.074569300Z",
     "start_time": "2023-12-02T13:00:36.560151100Z"
    }
   },
   "outputs": [
    {
     "name": "stdout",
     "output_type": "stream",
     "text": [
      "CPU times: total: 1min 58s\n",
      "Wall time: 2min 1s\n"
     ]
    },
    {
     "data": {
      "text/plain": "                                               email  label  \\\n0   date wed NUMBER aug NUMBER NUMBER NUMBER NUMB...      0   \n1  martin a posted tassos papadopoulos the greek ...      0   \n2  man threatens explosion in moscow thursday aug...      0   \n3  klez the virus that won t die already the most...      0   \n4   in adding cream to spaghetti carbonara which ...      0   \n\n                                        cleaned_text  \n0  [date, d, number, aug, number, number, number,...  \n1  [martin, post, tassos, papadopoulo, greek, scu...  \n2  [man, threaten, explosion, moscow, thursday, a...  \n3  [klez, virus, win, t, die, prolific, virus, kl...  \n4  [add, cream, spaghetti, carbonara, effect, pas...  ",
      "text/html": "<div>\n<style scoped>\n    .dataframe tbody tr th:only-of-type {\n        vertical-align: middle;\n    }\n\n    .dataframe tbody tr th {\n        vertical-align: top;\n    }\n\n    .dataframe thead th {\n        text-align: right;\n    }\n</style>\n<table border=\"1\" class=\"dataframe\">\n  <thead>\n    <tr style=\"text-align: right;\">\n      <th></th>\n      <th>email</th>\n      <th>label</th>\n      <th>cleaned_text</th>\n    </tr>\n  </thead>\n  <tbody>\n    <tr>\n      <th>0</th>\n      <td>date wed NUMBER aug NUMBER NUMBER NUMBER NUMB...</td>\n      <td>0</td>\n      <td>[date, d, number, aug, number, number, number,...</td>\n    </tr>\n    <tr>\n      <th>1</th>\n      <td>martin a posted tassos papadopoulos the greek ...</td>\n      <td>0</td>\n      <td>[martin, post, tassos, papadopoulo, greek, scu...</td>\n    </tr>\n    <tr>\n      <th>2</th>\n      <td>man threatens explosion in moscow thursday aug...</td>\n      <td>0</td>\n      <td>[man, threaten, explosion, moscow, thursday, a...</td>\n    </tr>\n    <tr>\n      <th>3</th>\n      <td>klez the virus that won t die already the most...</td>\n      <td>0</td>\n      <td>[klez, virus, win, t, die, prolific, virus, kl...</td>\n    </tr>\n    <tr>\n      <th>4</th>\n      <td>in adding cream to spaghetti carbonara which ...</td>\n      <td>0</td>\n      <td>[add, cream, spaghetti, carbonara, effect, pas...</td>\n    </tr>\n  </tbody>\n</table>\n</div>"
     },
     "execution_count": 7,
     "metadata": {},
     "output_type": "execute_result"
    }
   ],
   "source": [
    "%%time\n",
    "\n",
    "data['cleaned_text'] = data['email'].apply(\n",
    "    lambda x: [\n",
    "        token.lemma_.lower() for token in nlp(x) if\n",
    "        not token.is_stop\n",
    "        and not token.is_punct\n",
    "        and not token.is_digit\n",
    "        and not token.like_email\n",
    "        and not token.like_num\n",
    "        and not token.is_space\n",
    "    ]\n",
    ")\n",
    "data.head()"
   ]
  },
  {
   "cell_type": "markdown",
   "source": [
    "# Векторизация: Word2Vec CBOW"
   ],
   "metadata": {
    "collapsed": false
   }
  },
  {
   "cell_type": "code",
   "execution_count": 37,
   "metadata": {
    "id": "2saSvMSF-3CL",
    "ExecuteTime": {
     "end_time": "2023-12-02T13:53:51.984110300Z",
     "start_time": "2023-12-02T13:53:51.445444900Z"
    }
   },
   "outputs": [],
   "source": [
    "X_train, X_test, y_train, y_test = train_test_split(data['cleaned_text'], data['label'], random_state=2023)"
   ]
  },
  {
   "cell_type": "code",
   "execution_count": 38,
   "outputs": [
    {
     "name": "stdout",
     "output_type": "stream",
     "text": [
      "CPU times: total: 1min 6s\n",
      "Wall time: 23.2 s\n"
     ]
    }
   ],
   "source": [
    "%%time\n",
    "VECTOR_SIZE = 256\n",
    "model = gensim.models.Word2Vec(\n",
    "    sentences=X_train,\n",
    "    vector_size=VECTOR_SIZE, # default = 100\n",
    "    window=7, # default = 5\n",
    "    min_count=10,\n",
    "    sg=1, # Training algorithm: 1 for skip-gram; otherwise CBOW\n",
    "    hs=0, #  If 1, hierarchical softmax will be used for model training. If 0, and negative is non-zero, negative sampling will be used.\n",
    "    negative=5, # If > 0, negative sampling will be used, if set to 0, no negative sampling is used.\n",
    "    epochs=25, # Number of iterations (epochs) over the corpus\n",
    "    seed=2023,\n",
    ")"
   ],
   "metadata": {
    "collapsed": false,
    "ExecuteTime": {
     "end_time": "2023-12-02T13:54:14.761168300Z",
     "start_time": "2023-12-02T13:53:51.517116Z"
    }
   }
  },
  {
   "cell_type": "markdown",
   "source": [
    "Intrinsic оценка качества эмбеддингов"
   ],
   "metadata": {
    "collapsed": false
   }
  },
  {
   "cell_type": "code",
   "execution_count": 39,
   "outputs": [],
   "source": [
    "# model.wv.most_similar(['please'])\n",
    "# \"Key 'please' not present in vocabulary\""
   ],
   "metadata": {
    "collapsed": false,
    "ExecuteTime": {
     "end_time": "2023-12-02T13:54:14.835149800Z",
     "start_time": "2023-12-02T13:54:14.763121100Z"
    }
   }
  },
  {
   "cell_type": "markdown",
   "source": [
    "Видимо, оно было исключено, как часто встречаемое."
   ],
   "metadata": {
    "collapsed": false
   }
  },
  {
   "cell_type": "code",
   "execution_count": 40,
   "outputs": [
    {
     "data": {
      "text/plain": "[('ago', 0.4501018226146698),\n ('age', 0.31290510296821594),\n ('fortune', 0.31080934405326843),\n ('critic', 0.30952364206314087),\n ('roongthip', 0.30392321944236755),\n ('cleaning', 0.3028695285320282),\n ('quarter', 0.2958633601665497),\n ('thai', 0.2842932343482971),\n ('completion', 0.2838909924030304),\n ('graduate', 0.2837061285972595)]"
     },
     "execution_count": 40,
     "metadata": {},
     "output_type": "execute_result"
    }
   ],
   "source": [
    "model.wv.most_similar(['year'])"
   ],
   "metadata": {
    "collapsed": false,
    "ExecuteTime": {
     "end_time": "2023-12-02T13:54:14.860119700Z",
     "start_time": "2023-12-02T13:54:14.781121400Z"
    }
   }
  },
  {
   "cell_type": "code",
   "execution_count": 41,
   "outputs": [
    {
     "data": {
      "text/plain": "[('waider', 0.32578831911087036),\n ('insane', 0.2726579010486603),\n ('diagnostic', 0.2679702043533325),\n ('ro', 0.26339051127433777),\n ('skeptical', 0.2619013488292694),\n ('sheep', 0.2600741684436798),\n ('yer', 0.2566085755825043),\n ('flag', 0.25405460596084595),\n ('ed', 0.25297287106513977),\n ('prostitute', 0.25235515832901)]"
     },
     "execution_count": 41,
     "metadata": {},
     "output_type": "execute_result"
    }
   ],
   "source": [
    "model.wv.most_similar(['yes'])"
   ],
   "metadata": {
    "collapsed": false,
    "ExecuteTime": {
     "end_time": "2023-12-02T13:54:14.861116200Z",
     "start_time": "2023-12-02T13:54:14.814118300Z"
    }
   }
  },
  {
   "cell_type": "code",
   "execution_count": 42,
   "outputs": [
    {
     "data": {
      "text/plain": "[('egwn', 0.3757016658782959),\n ('alvie', 0.3662855625152588),\n ('tar', 0.35801631212234497),\n ('poker', 0.3545455038547516),\n ('charset', 0.35070282220840454),\n ('harri', 0.34718915820121765),\n ('eircom', 0.34385186433792114),\n ('mord', 0.338209867477417),\n ('automate', 0.33741509914398193),\n ('z', 0.32958826422691345)]"
     },
     "execution_count": 42,
     "metadata": {},
     "output_type": "execute_result"
    }
   ],
   "source": [
    "model.wv.most_similar(['hi'])"
   ],
   "metadata": {
    "collapsed": false,
    "ExecuteTime": {
     "end_time": "2023-12-02T13:54:14.862113100Z",
     "start_time": "2023-12-02T13:54:14.845119900Z"
    }
   }
  },
  {
   "cell_type": "code",
   "execution_count": 43,
   "outputs": [
    {
     "data": {
      "text/plain": "'agree'"
     },
     "execution_count": 43,
     "metadata": {},
     "output_type": "execute_result"
    }
   ],
   "source": [
    "model.wv.doesnt_match(['yes', 'no', 'I', 'agree'])"
   ],
   "metadata": {
    "collapsed": false,
    "ExecuteTime": {
     "end_time": "2023-12-02T13:54:15.040151600Z",
     "start_time": "2023-12-02T13:54:14.863115300Z"
    }
   }
  },
  {
   "cell_type": "code",
   "execution_count": 44,
   "outputs": [
    {
     "data": {
      "text/plain": "'second'"
     },
     "execution_count": 44,
     "metadata": {},
     "output_type": "execute_result"
    }
   ],
   "source": [
    "model.wv.doesnt_match(['week', 'year', 'month', 'car', 'second'])"
   ],
   "metadata": {
    "collapsed": false,
    "ExecuteTime": {
     "end_time": "2023-12-02T13:54:15.045111800Z",
     "start_time": "2023-12-02T13:54:14.891112600Z"
    }
   }
  },
  {
   "cell_type": "code",
   "execution_count": 45,
   "outputs": [
    {
     "data": {
      "text/plain": "'sky'"
     },
     "execution_count": 45,
     "metadata": {},
     "output_type": "execute_result"
    }
   ],
   "source": [
    "model.wv.doesnt_match(['milk', 'bread', 'sky', 'cherry'])"
   ],
   "metadata": {
    "collapsed": false,
    "ExecuteTime": {
     "end_time": "2023-12-02T13:54:15.047120100Z",
     "start_time": "2023-12-02T13:54:14.907113800Z"
    }
   }
  },
  {
   "cell_type": "code",
   "execution_count": 50,
   "outputs": [
    {
     "data": {
      "text/plain": "array([[1.        , 0.03452344],\n       [0.03452344, 1.        ]])"
     },
     "execution_count": 50,
     "metadata": {},
     "output_type": "execute_result"
    }
   ],
   "source": [
    "def cos(v1, v2):\n",
    "    return 1 - cosine(v1, v2)\n",
    "\n",
    "def correlation():\n",
    "    with open(\"Таблицы для оценки эмбеддингов/SimLex-999.txt\", \"r\") as file:\n",
    "        cos_arr = []\n",
    "        simlex_arr = []\n",
    "        next(file)\n",
    "        for line in file:\n",
    "            a = line.split()\n",
    "            try:\n",
    "                coss = cos(model.wv[a[0]], model.wv[a[1]])\n",
    "                cos_arr.append(coss)\n",
    "                simlex_arr.append(float(a[3]))\n",
    "            except:\n",
    "                pass\n",
    "    return np.corrcoef(cos_arr, simlex_arr)\n",
    "\n",
    "r = correlation()\n",
    "r"
   ],
   "metadata": {
    "collapsed": false,
    "ExecuteTime": {
     "end_time": "2023-12-02T13:55:50.234205100Z",
     "start_time": "2023-12-02T13:55:50.177211600Z"
    }
   }
  },
  {
   "cell_type": "markdown",
   "source": [
    "Не очень хороший корпус, doesnt_match и most_similar могут выдавать странные результаты, косинусное расстояние между парами эмбеддингов не коррелирует с SimLex (но это не значит, что у них нет связи)."
   ],
   "metadata": {
    "collapsed": false
   }
  },
  {
   "cell_type": "markdown",
   "source": [
    "# Классификация"
   ],
   "metadata": {
    "collapsed": false
   }
  },
  {
   "cell_type": "code",
   "execution_count": 51,
   "outputs": [
    {
     "data": {
      "text/plain": "1826    [url, url, date, tue, number, sep, number, num...\n122     [let, write, mind, know, awful, lot, oh, inter...\n1726    [tim, peters, write, ve, get, summary, file, c...\n1123    [hal, devore, say, brent, say, book, paste, fu...\n1836    [url, url, date, supply, carny, concessionaire...\nName: cleaned_text, dtype: object"
     },
     "execution_count": 51,
     "metadata": {},
     "output_type": "execute_result"
    }
   ],
   "source": [
    "X_train[:5]"
   ],
   "metadata": {
    "collapsed": false,
    "ExecuteTime": {
     "end_time": "2023-12-02T13:56:00.076074800Z",
     "start_time": "2023-12-02T13:55:59.833112100Z"
    }
   }
  },
  {
   "cell_type": "code",
   "execution_count": 52,
   "outputs": [
    {
     "data": {
      "text/plain": "[array([-0.00496055, -0.07714188,  0.01091508,  0.07927296,  0.06003686,\n        -0.04377781,  0.02439905, -0.31756824, -0.17448705,  0.10151234,\n         0.05152039, -0.2149051 , -0.03201369,  0.0373418 , -0.18609734,\n         0.0345365 ,  0.07851401,  0.19927263, -0.1290992 , -0.07626686,\n        -0.04006838, -0.10021342,  0.0415928 , -0.05251959, -0.15674683,\n        -0.05584528,  0.04873844, -0.05055373,  0.0428902 , -0.11151214,\n         0.07711145, -0.09085753, -0.17528711, -0.09000844,  0.1586474 ,\n        -0.09739301, -0.22469726,  0.02275746,  0.07961558,  0.0374274 ,\n         0.11444626,  0.10080155,  0.10311528, -0.21540403,  0.07663862,\n         0.1615595 ,  0.07117678, -0.09629361, -0.27383086, -0.10360359,\n        -0.06900878,  0.13113798,  0.0195047 ,  0.10483648,  0.01638907,\n         0.13924871, -0.04046673, -0.14869334,  0.15351908,  0.05855192,\n        -0.02404684,  0.18745303, -0.16233197, -0.07317162, -0.03365894,\n        -0.0945463 ,  0.0142761 , -0.13006046, -0.04528236, -0.13707122,\n         0.1970627 ,  0.00948313,  0.2596817 ,  0.02745847,  0.04948085,\n         0.2756659 ,  0.10623987,  0.1116672 ,  0.2074868 ,  0.01087607,\n         0.02691011,  0.24745195,  0.10803747, -0.10222399,  0.09792081,\n        -0.04347587,  0.00954494, -0.32395425, -0.15207608, -0.00095195,\n        -0.08670159,  0.02132007,  0.23806576,  0.02848654,  0.05680023,\n        -0.00297657,  0.02814696,  0.03609072,  0.13085409,  0.05859954,\n        -0.1634214 ,  0.03274475, -0.07959027,  0.06810008,  0.11692587,\n         0.12726468,  0.10259843,  0.2176584 ,  0.1266711 , -0.14186896,\n         0.26469916, -0.26612598,  0.16264436,  0.15256205,  0.02910764,\n         0.20834628,  0.01724148,  0.10834982, -0.0497163 ,  0.02676455,\n        -0.01396128, -0.17774788, -0.09242772,  0.03158808, -0.03347804,\n        -0.04885374, -0.11752514, -0.02240834,  0.24283059,  0.11783747,\n        -0.19707996, -0.09354816, -0.02764431,  0.00292623, -0.06975964,\n        -0.26539   ,  0.20635681, -0.0332302 ,  0.02961664, -0.1820863 ,\n        -0.05046994,  0.2678877 ,  0.05058969,  0.05718871,  0.02704098,\n         0.08368315, -0.01494018,  0.05369917, -0.02191009, -0.01443011,\n        -0.02864248,  0.1660244 , -0.05431911,  0.03996212, -0.09916156,\n        -0.11577592, -0.02934098, -0.01215667, -0.06956943,  0.03122218,\n        -0.12501255, -0.23666635,  0.12669685,  0.2531564 , -0.03683136,\n        -0.08956845,  0.0338937 , -0.00647178, -0.07701921, -0.10257767,\n         0.23285118, -0.07321063,  0.14743614, -0.13539815, -0.07613833,\n         0.09685133,  0.08384714,  0.16086787,  0.10115048,  0.25263137,\n         0.07727266,  0.04651644,  0.02844007, -0.13292389,  0.09611486,\n        -0.11813152,  0.0777622 , -0.16038814, -0.22021885,  0.10019298,\n        -0.07221328,  0.02660387,  0.17197528,  0.1371441 , -0.23868899,\n         0.03330722,  0.14120612, -0.1592705 , -0.06117297, -0.02278237,\n         0.00590872,  0.11152826, -0.05971042,  0.1812892 , -0.14481136,\n         0.10970668, -0.15102012,  0.03374929, -0.14210412,  0.00780776,\n         0.12841499, -0.02261971, -0.27602273,  0.04718745,  0.10806825,\n        -0.07609887, -0.01306023,  0.01736268,  0.15987131,  0.25925165,\n        -0.09661603, -0.06308194,  0.11749939,  0.33044297,  0.14715038,\n        -0.04658163,  0.13745895, -0.18000238,  0.12358211,  0.18876126,\n         0.0317408 , -0.11611386,  0.04786117, -0.06017518, -0.12412125,\n         0.05869859, -0.152357  , -0.11164851,  0.06372338,  0.01641052,\n         0.0457251 , -0.09374066, -0.09795313, -0.17090186, -0.03765001,\n         0.00743388,  0.19616517, -0.09249289, -0.18996964,  0.08212606,\n         0.13715902, -0.16364089,  0.09078222, -0.08713982, -0.10417958,\n        -0.09924351], dtype=float32)]"
     },
     "execution_count": 52,
     "metadata": {},
     "output_type": "execute_result"
    }
   ],
   "source": [
    "# Получаем эмбеддинг для текста\n",
    "def document_vector(doc):\n",
    "    doc = [model.wv[word] for word in doc if word in model.wv.key_to_index.keys()]\n",
    "    if not doc:\n",
    "        return [0 for i in range(VECTOR_SIZE)]\n",
    "    return np.mean(doc, axis=0)\n",
    "\n",
    "X = list(X_train.apply(document_vector))\n",
    "X_test_ = list(X_test.apply(document_vector))\n",
    "X[:1]"
   ],
   "metadata": {
    "collapsed": false,
    "ExecuteTime": {
     "end_time": "2023-12-02T13:56:00.828103700Z",
     "start_time": "2023-12-02T13:55:59.857094500Z"
    }
   }
  },
  {
   "cell_type": "code",
   "execution_count": 53,
   "outputs": [
    {
     "name": "stdout",
     "output_type": "stream",
     "text": [
      "              precision    recall  f1-score   support\n",
      "\n",
      "           0       0.98      1.00      0.99       616\n",
      "           1       0.99      0.92      0.95       134\n",
      "\n",
      "    accuracy                           0.98       750\n",
      "   macro avg       0.99      0.96      0.97       750\n",
      "weighted avg       0.98      0.98      0.98       750\n",
      "\n"
     ]
    }
   ],
   "source": [
    "clf = LogisticRegression()\n",
    "clf.fit(X, y_train)\n",
    "\n",
    "y_pred = clf.predict(X_test_)\n",
    "print(classification_report(y_test, y_pred))"
   ],
   "metadata": {
    "collapsed": false,
    "ExecuteTime": {
     "end_time": "2023-12-02T13:56:00.958242100Z",
     "start_time": "2023-12-02T13:56:00.833110700Z"
    }
   }
  },
  {
   "cell_type": "markdown",
   "source": [
    "# Векторизация: FastText"
   ],
   "metadata": {
    "collapsed": false
   }
  },
  {
   "cell_type": "code",
   "execution_count": 54,
   "outputs": [
    {
     "name": "stdout",
     "output_type": "stream",
     "text": [
      "CPU times: total: 2min 43s\n",
      "Wall time: 1min\n"
     ]
    }
   ],
   "source": [
    "%%time\n",
    "VECTOR_SIZE = 256\n",
    "model = gensim.models.FastText(\n",
    "    sentences=X_train,\n",
    "    vector_size=VECTOR_SIZE, # default = 100\n",
    "    window=7, # default = 5\n",
    "    min_count=10,\n",
    "    sg=1, # Training algorithm: 1 for skip-gram; otherwise CBOW\n",
    "    hs=0, #  If 1, hierarchical softmax will be used for model training. If 0, and negative is non-zero, negative sampling will be used.\n",
    "    negative=5, # If > 0, negative sampling will be used, if set to 0, no negative sampling is used.\n",
    "    epochs=25, # Number of iterations (epochs) over the corpus\n",
    "    seed=2023,\n",
    ")"
   ],
   "metadata": {
    "collapsed": false,
    "ExecuteTime": {
     "end_time": "2023-12-02T13:57:02.036187400Z",
     "start_time": "2023-12-02T13:56:00.959254800Z"
    }
   }
  },
  {
   "cell_type": "markdown",
   "source": [
    "Intrinsic оценка качества эмбеддингов"
   ],
   "metadata": {
    "collapsed": false
   }
  },
  {
   "cell_type": "code",
   "execution_count": 55,
   "outputs": [
    {
     "data": {
      "text/plain": "[('pleased', 0.8312321901321411),\n ('lease', 0.8252145648002625),\n ('release', 0.7291569709777832),\n ('ease', 0.5907385945320129),\n ('taongi', 0.38943272829055786),\n ('announcement', 0.38047829270362854),\n ('hawaii', 0.37859633564949036),\n ('november', 0.37410104274749756),\n ('hat', 0.37103644013404846),\n ('melchizedek', 0.3686017692089081)]"
     },
     "execution_count": 55,
     "metadata": {},
     "output_type": "execute_result"
    }
   ],
   "source": [
    "model.wv.most_similar(['please'])"
   ],
   "metadata": {
    "collapsed": false,
    "ExecuteTime": {
     "end_time": "2023-12-02T13:57:02.234200Z",
     "start_time": "2023-12-02T13:57:02.094194400Z"
    }
   }
  },
  {
   "cell_type": "code",
   "execution_count": 56,
   "outputs": [
    {
     "data": {
      "text/plain": "[('ago', 0.43607810139656067),\n ('tear', 0.34255263209342957),\n ('boom', 0.33648842573165894),\n ('ear', 0.32442706823349),\n ('yeah', 0.32187536358833313),\n ('quarter', 0.31909021735191345),\n ('roongthip', 0.3099408745765686),\n ('fortune', 0.29858332872390747),\n ('hindu', 0.2835412621498108),\n ('decade', 0.28084489703178406)]"
     },
     "execution_count": 56,
     "metadata": {},
     "output_type": "execute_result"
    }
   ],
   "source": [
    "model.wv.most_similar(['year'])"
   ],
   "metadata": {
    "collapsed": false,
    "ExecuteTime": {
     "end_time": "2023-12-02T13:57:02.287747600Z",
     "start_time": "2023-12-02T13:57:02.239193300Z"
    }
   }
  },
  {
   "cell_type": "code",
   "execution_count": 57,
   "outputs": [
    {
     "data": {
      "text/plain": "[('alvie', 0.36906862258911133),\n ('shanumber', 0.35358619689941406),\n ('numberanumber', 0.34773364663124084),\n ('eircom', 0.3470231890678406),\n ('suse', 0.3432796895503998),\n ('mord', 0.3382689952850342),\n ('numberbit', 0.33592864871025085),\n ('yannick', 0.33114826679229736),\n ('hash', 0.3303244709968567),\n ('egwn', 0.3283159136772156)]"
     },
     "execution_count": 57,
     "metadata": {},
     "output_type": "execute_result"
    }
   ],
   "source": [
    "model.wv.most_similar(['hi'])"
   ],
   "metadata": {
    "collapsed": false,
    "ExecuteTime": {
     "end_time": "2023-12-02T13:57:02.318760400Z",
     "start_time": "2023-12-02T13:57:02.262196700Z"
    }
   }
  },
  {
   "cell_type": "code",
   "execution_count": 58,
   "outputs": [
    {
     "data": {
      "text/plain": "'I'"
     },
     "execution_count": 58,
     "metadata": {},
     "output_type": "execute_result"
    }
   ],
   "source": [
    "model.wv.doesnt_match(['yes', 'no', 'I', 'agree'])"
   ],
   "metadata": {
    "collapsed": false,
    "ExecuteTime": {
     "end_time": "2023-12-02T13:57:02.319749900Z",
     "start_time": "2023-12-02T13:57:02.279189200Z"
    }
   }
  },
  {
   "cell_type": "code",
   "execution_count": 59,
   "outputs": [
    {
     "data": {
      "text/plain": "'second'"
     },
     "execution_count": 59,
     "metadata": {},
     "output_type": "execute_result"
    }
   ],
   "source": [
    "model.wv.doesnt_match(['week', 'year', 'month', 'car', 'second'])"
   ],
   "metadata": {
    "collapsed": false,
    "ExecuteTime": {
     "end_time": "2023-12-02T13:57:02.442767Z",
     "start_time": "2023-12-02T13:57:02.309749300Z"
    }
   }
  },
  {
   "cell_type": "code",
   "execution_count": 60,
   "outputs": [
    {
     "data": {
      "text/plain": "'bread'"
     },
     "execution_count": 60,
     "metadata": {},
     "output_type": "execute_result"
    }
   ],
   "source": [
    "model.wv.doesnt_match(['milk', 'bread', 'sky', 'cherry'])"
   ],
   "metadata": {
    "collapsed": false,
    "ExecuteTime": {
     "end_time": "2023-12-02T13:57:02.506744200Z",
     "start_time": "2023-12-02T13:57:02.326749Z"
    }
   }
  },
  {
   "cell_type": "code",
   "execution_count": 61,
   "outputs": [
    {
     "data": {
      "text/plain": "array([[1.        , 0.02755002],\n       [0.02755002, 1.        ]])"
     },
     "execution_count": 61,
     "metadata": {},
     "output_type": "execute_result"
    }
   ],
   "source": [
    "r = correlation()\n",
    "r"
   ],
   "metadata": {
    "collapsed": false,
    "ExecuteTime": {
     "end_time": "2023-12-02T13:57:02.599744Z",
     "start_time": "2023-12-02T13:57:02.356744900Z"
    }
   }
  },
  {
   "cell_type": "code",
   "execution_count": 62,
   "outputs": [
    {
     "data": {
      "text/plain": "0.16400949656963348"
     },
     "execution_count": 62,
     "metadata": {},
     "output_type": "execute_result"
    }
   ],
   "source": [
    "cos(model.wv['old'], model.wv['new']) # simlex A, 1.58"
   ],
   "metadata": {
    "collapsed": false,
    "ExecuteTime": {
     "end_time": "2023-12-02T13:57:02.620743900Z",
     "start_time": "2023-12-02T13:57:02.567807700Z"
    }
   }
  },
  {
   "cell_type": "code",
   "execution_count": 63,
   "outputs": [
    {
     "data": {
      "text/plain": "0.24328738451004028"
     },
     "execution_count": 63,
     "metadata": {},
     "output_type": "execute_result"
    }
   ],
   "source": [
    "cos(model.wv['bread'], model.wv['flour']) # simlex N, 3.33"
   ],
   "metadata": {
    "collapsed": false,
    "ExecuteTime": {
     "end_time": "2023-12-02T13:57:02.621746500Z",
     "start_time": "2023-12-02T13:57:02.578748700Z"
    }
   }
  },
  {
   "cell_type": "code",
   "execution_count": 64,
   "outputs": [
    {
     "data": {
      "text/plain": "0.1955680102109909"
     },
     "execution_count": 64,
     "metadata": {},
     "output_type": "execute_result"
    }
   ],
   "source": [
    "cos(model.wv['bad'], model.wv['awful']) # simlex A, 8.42"
   ],
   "metadata": {
    "collapsed": false,
    "ExecuteTime": {
     "end_time": "2023-12-02T13:57:02.701752600Z",
     "start_time": "2023-12-02T13:57:02.589748400Z"
    }
   }
  },
  {
   "cell_type": "code",
   "execution_count": 65,
   "outputs": [
    {
     "data": {
      "text/plain": "0.1391594260931015"
     },
     "execution_count": 65,
     "metadata": {},
     "output_type": "execute_result"
    }
   ],
   "source": [
    "cos(model.wv['large'], model.wv['huge']) # simlex A, 9.47"
   ],
   "metadata": {
    "collapsed": false,
    "ExecuteTime": {
     "end_time": "2023-12-02T13:57:02.702743200Z",
     "start_time": "2023-12-02T13:57:02.608750100Z"
    }
   }
  },
  {
   "cell_type": "code",
   "execution_count": 66,
   "outputs": [
    {
     "data": {
      "text/plain": "0.28068363666534424"
     },
     "execution_count": 66,
     "metadata": {},
     "output_type": "execute_result"
    }
   ],
   "source": [
    "cos(model.wv['cat'], model.wv['dog']) # simlex N, 1.75"
   ],
   "metadata": {
    "collapsed": false,
    "ExecuteTime": {
     "end_time": "2023-12-02T13:57:02.703744300Z",
     "start_time": "2023-12-02T13:57:02.621746500Z"
    }
   }
  },
  {
   "cell_type": "markdown",
   "source": [
    "FastText тоже ошибается, но уже на других примерах, корреляции с SimLex тоже нет."
   ],
   "metadata": {
    "collapsed": false
   }
  },
  {
   "cell_type": "markdown",
   "source": [
    "# Классификация"
   ],
   "metadata": {
    "collapsed": false
   }
  },
  {
   "cell_type": "code",
   "execution_count": 67,
   "outputs": [],
   "source": [
    "# Получаем эмбеддинг для текста\n",
    "def document_vector(doc):\n",
    "    doc = [model.wv[word] for word in doc if word in model.wv.key_to_index.keys()]\n",
    "    if not doc:\n",
    "        return [0 for i in range(VECTOR_SIZE)]\n",
    "    return np.mean(doc, axis=0)\n",
    "\n",
    "X = list(X_train.apply(document_vector))\n",
    "X_test_ = list(X_test.apply(document_vector))"
   ],
   "metadata": {
    "collapsed": false,
    "ExecuteTime": {
     "end_time": "2023-12-02T13:57:03.771744300Z",
     "start_time": "2023-12-02T13:57:02.645745500Z"
    }
   }
  },
  {
   "cell_type": "code",
   "execution_count": 68,
   "outputs": [
    {
     "name": "stdout",
     "output_type": "stream",
     "text": [
      "              precision    recall  f1-score   support\n",
      "\n",
      "           0       0.98      1.00      0.99       616\n",
      "           1       0.99      0.91      0.95       134\n",
      "\n",
      "    accuracy                           0.98       750\n",
      "   macro avg       0.99      0.95      0.97       750\n",
      "weighted avg       0.98      0.98      0.98       750\n",
      "\n"
     ]
    }
   ],
   "source": [
    "clf = LogisticRegression()\n",
    "clf.fit(X, y_train)\n",
    "\n",
    "y_pred = clf.predict(X_test_)\n",
    "print(classification_report(y_test, y_pred))"
   ],
   "metadata": {
    "collapsed": false,
    "ExecuteTime": {
     "end_time": "2023-12-02T13:57:03.991136500Z",
     "start_time": "2023-12-02T13:57:03.775749300Z"
    }
   }
  },
  {
   "cell_type": "markdown",
   "source": [
    "И для Word2Vec CBOW, и для FastText эмбеддингов логистическая регрессия выдала примерно одинаковый результат."
   ],
   "metadata": {
    "collapsed": false
   }
  }
 ],
 "metadata": {
  "colab": {
   "provenance": [],
   "toc_visible": true
  },
  "kernelspec": {
   "name": "python3",
   "language": "python",
   "display_name": "Python 3 (ipykernel)"
  },
  "language_info": {
   "name": "python",
   "version": "3.10.3"
  }
 },
 "nbformat": 4,
 "nbformat_minor": 0
}
